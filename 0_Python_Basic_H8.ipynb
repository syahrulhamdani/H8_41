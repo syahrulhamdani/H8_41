{
 "cells": [
  {
   "cell_type": "markdown",
   "metadata": {},
   "source": [
    "Ini adalah markdown seperti tulisan biasa"
   ]
  },
  {
   "cell_type": "code",
   "execution_count": 1,
   "metadata": {
    "ExecuteTime": {
     "end_time": "2020-09-24T06:18:12.457554Z",
     "start_time": "2020-09-24T06:18:12.453489Z"
    }
   },
   "outputs": [
    {
     "name": "stdout",
     "output_type": "stream",
     "text": [
      "123123\n"
     ]
    }
   ],
   "source": [
    "print(123123)"
   ]
  },
  {
   "cell_type": "code",
   "execution_count": 2,
   "metadata": {
    "ExecuteTime": {
     "end_time": "2020-09-24T06:18:12.467867Z",
     "start_time": "2020-09-24T06:18:12.464737Z"
    }
   },
   "outputs": [
    {
     "name": "stdout",
     "output_type": "stream",
     "text": [
      "<class 'int'>\n"
     ]
    }
   ],
   "source": [
    "print(type(123123))"
   ]
  },
  {
   "cell_type": "code",
   "execution_count": 3,
   "metadata": {
    "ExecuteTime": {
     "end_time": "2020-09-24T06:18:12.474724Z",
     "start_time": "2020-09-24T06:18:12.471642Z"
    }
   },
   "outputs": [
    {
     "name": "stdout",
     "output_type": "stream",
     "text": [
      "10\n",
      "<class 'int'>\n"
     ]
    }
   ],
   "source": [
    "print(10)\n",
    "print(type(10))"
   ]
  },
  {
   "cell_type": "code",
   "execution_count": 4,
   "metadata": {
    "ExecuteTime": {
     "end_time": "2020-09-24T06:18:12.484038Z",
     "start_time": "2020-09-24T06:18:12.477678Z"
    }
   },
   "outputs": [
    {
     "name": "stdout",
     "output_type": "stream",
     "text": [
      "4.2\n",
      "<class 'float'>\n",
      "4.0\n",
      "<class 'float'>\n",
      "0.2\n",
      "<class 'float'>\n",
      "4000000.0\n",
      "<class 'float'>\n",
      "0.00042\n",
      "<class 'float'>\n"
     ]
    }
   ],
   "source": [
    "print(4.2)\n",
    "print(type(4.2))\n",
    "\n",
    "print(4.)\n",
    "print(type(4.))\n",
    "\n",
    "print(.2)\n",
    "print(type(.2))\n",
    "\n",
    "print(.4e7)\n",
    "print(type(.4e7))\n",
    "\n",
    "print(4.2e-4)\n",
    "print(type(.4e7))"
   ]
  },
  {
   "cell_type": "code",
   "execution_count": 5,
   "metadata": {
    "ExecuteTime": {
     "end_time": "2020-09-24T06:18:12.498579Z",
     "start_time": "2020-09-24T06:18:12.486832Z"
    }
   },
   "outputs": [
    {
     "data": {
      "text/plain": [
       "False"
      ]
     },
     "execution_count": 5,
     "metadata": {},
     "output_type": "execute_result"
    }
   ],
   "source": [
    "type(.2) == \"float\""
   ]
  },
  {
   "cell_type": "code",
   "execution_count": 6,
   "metadata": {
    "ExecuteTime": {
     "end_time": "2020-09-24T06:18:12.506864Z",
     "start_time": "2020-09-24T06:18:12.502519Z"
    }
   },
   "outputs": [
    {
     "name": "stdout",
     "output_type": "stream",
     "text": [
      "True\n",
      "False\n",
      "True\n"
     ]
    }
   ],
   "source": [
    "print(type(.2) == float)\n",
    "print(type(10) == \"int\")\n",
    "print(type(10) == int)"
   ]
  },
  {
   "cell_type": "code",
   "execution_count": 7,
   "metadata": {
    "ExecuteTime": {
     "end_time": "2020-09-24T06:18:12.514265Z",
     "start_time": "2020-09-24T06:18:12.510228Z"
    }
   },
   "outputs": [
    {
     "name": "stdout",
     "output_type": "stream",
     "text": [
      "(1+2j)\n",
      "<class 'complex'>\n"
     ]
    }
   ],
   "source": [
    "print(1 + 2j)\n",
    "print(type(1 + 2j))"
   ]
  },
  {
   "cell_type": "code",
   "execution_count": 8,
   "metadata": {
    "ExecuteTime": {
     "end_time": "2020-09-24T06:18:12.520849Z",
     "start_time": "2020-09-24T06:18:12.516851Z"
    }
   },
   "outputs": [
    {
     "name": "stdout",
     "output_type": "stream",
     "text": [
      "True\n",
      "False\n"
     ]
    }
   ],
   "source": [
    "print(0 == 0.)\n",
    "print(4 == 4.0000000000001)"
   ]
  },
  {
   "cell_type": "code",
   "execution_count": 9,
   "metadata": {
    "ExecuteTime": {
     "end_time": "2020-09-24T06:18:12.529145Z",
     "start_time": "2020-09-24T06:18:12.525831Z"
    }
   },
   "outputs": [
    {
     "name": "stdout",
     "output_type": "stream",
     "text": [
      "<class 'float'>\n",
      "<class 'int'>\n"
     ]
    }
   ],
   "source": [
    "print(type(0.))\n",
    "print(type(0))"
   ]
  },
  {
   "cell_type": "code",
   "execution_count": 10,
   "metadata": {
    "ExecuteTime": {
     "end_time": "2020-09-24T06:18:12.537409Z",
     "start_time": "2020-09-24T06:18:12.532451Z"
    }
   },
   "outputs": [
    {
     "name": "stdout",
     "output_type": "stream",
     "text": [
      "hacktiv8\n",
      "<class 'str'>\n",
      "ha'tiv8\n",
      "\"hacktiv8\"\n",
      "hacktiv8\n",
      "<class 'str'>\n",
      "hacktiv8\n",
      "<class 'str'>\n",
      "True\n"
     ]
    }
   ],
   "source": [
    "print(\"hacktiv8\")\n",
    "print(type(\"hacktiv8\"))\n",
    "\n",
    "print(\"ha'tiv8\")\n",
    "print('\"hacktiv8\"')\n",
    "\n",
    "print('hacktiv8')\n",
    "print(type('hacktiv8'))\n",
    "\n",
    "print('''hacktiv8''')\n",
    "print(type('''hacktiv8'''))\n",
    "\n",
    "print(\"hacktiv8\" == 'hacktiv8')"
   ]
  },
  {
   "cell_type": "code",
   "execution_count": 11,
   "metadata": {
    "ExecuteTime": {
     "end_time": "2020-09-24T06:18:12.544681Z",
     "start_time": "2020-09-24T06:18:12.540474Z"
    }
   },
   "outputs": [
    {
     "name": "stdout",
     "output_type": "stream",
     "text": [
      "\n",
      "\n"
     ]
    }
   ],
   "source": [
    "print('')\n",
    "print()"
   ]
  },
  {
   "cell_type": "code",
   "execution_count": 12,
   "metadata": {
    "ExecuteTime": {
     "end_time": "2020-09-24T06:18:12.551705Z",
     "start_time": "2020-09-24T06:18:12.548779Z"
    }
   },
   "outputs": [
    {
     "name": "stdout",
     "output_type": "stream",
     "text": [
      "This is string containing a single quote (') character\n"
     ]
    }
   ],
   "source": [
    "print(\"This is string containing a single quote (') character\")"
   ]
  },
  {
   "cell_type": "code",
   "execution_count": 13,
   "metadata": {
    "ExecuteTime": {
     "end_time": "2020-09-24T06:18:12.721533Z",
     "start_time": "2020-09-24T06:18:12.555021Z"
    }
   },
   "outputs": [
    {
     "ename": "NameError",
     "evalue": "name 'hacktiv8' is not defined",
     "output_type": "error",
     "traceback": [
      "\u001b[0;31m---------------------------------------------------------------------------\u001b[0m",
      "\u001b[0;31mNameError\u001b[0m                                 Traceback (most recent call last)",
      "\u001b[0;32m<ipython-input-13-24b950873565>\u001b[0m in \u001b[0;36m<module>\u001b[0;34m\u001b[0m\n\u001b[0;32m----> 1\u001b[0;31m \u001b[0mprint\u001b[0m\u001b[0;34m(\u001b[0m\u001b[0mhacktiv8\u001b[0m\u001b[0;34m)\u001b[0m\u001b[0;34m\u001b[0m\u001b[0;34m\u001b[0m\u001b[0m\n\u001b[0m",
      "\u001b[0;31mNameError\u001b[0m: name 'hacktiv8' is not defined"
     ]
    }
   ],
   "source": [
    "print(hacktiv8)"
   ]
  },
  {
   "cell_type": "code",
   "execution_count": 14,
   "metadata": {
    "ExecuteTime": {
     "end_time": "2020-09-24T06:18:21.958249Z",
     "start_time": "2020-09-24T06:18:21.953770Z"
    }
   },
   "outputs": [
    {
     "name": "stdout",
     "output_type": "stream",
     "text": [
      "False\n"
     ]
    }
   ],
   "source": [
    "print(\"hacktiv8\" == 'Hacktiv8')"
   ]
  },
  {
   "cell_type": "code",
   "execution_count": 15,
   "metadata": {
    "ExecuteTime": {
     "end_time": "2020-09-24T06:18:21.972149Z",
     "start_time": "2020-09-24T06:18:21.963806Z"
    }
   },
   "outputs": [
    {
     "name": "stdout",
     "output_type": "stream",
     "text": [
      "True\n",
      "<class 'bool'>\n",
      "False\n",
      "<class 'bool'>\n"
     ]
    }
   ],
   "source": [
    "print(True)\n",
    "print(type(True))\n",
    "\n",
    "print(False)\n",
    "print(type(False))"
   ]
  },
  {
   "cell_type": "code",
   "execution_count": 16,
   "metadata": {
    "ExecuteTime": {
     "end_time": "2020-09-24T06:18:21.982252Z",
     "start_time": "2020-09-24T06:18:21.976849Z"
    }
   },
   "outputs": [
    {
     "name": "stdout",
     "output_type": "stream",
     "text": [
      "True\n",
      "True\n"
     ]
    }
   ],
   "source": [
    "print(1 == True)\n",
    "print(0 == False)"
   ]
  },
  {
   "cell_type": "code",
   "execution_count": 17,
   "metadata": {
    "ExecuteTime": {
     "end_time": "2020-09-24T06:18:21.991130Z",
     "start_time": "2020-09-24T06:18:21.986291Z"
    }
   },
   "outputs": [
    {
     "name": "stdout",
     "output_type": "stream",
     "text": [
      "False\n",
      "False\n"
     ]
    }
   ],
   "source": [
    "print(10 == False)\n",
    "print(10 == True)"
   ]
  },
  {
   "cell_type": "code",
   "execution_count": 18,
   "metadata": {
    "ExecuteTime": {
     "end_time": "2020-09-24T06:18:22.008642Z",
     "start_time": "2020-09-24T06:18:21.994505Z"
    }
   },
   "outputs": [
    {
     "name": "stdout",
     "output_type": "stream",
     "text": [
      "True\n",
      "True\n",
      "True\n",
      "False\n",
      "False\n"
     ]
    }
   ],
   "source": [
    "# type conversion boolean\n",
    "print(bool(10))\n",
    "print(bool(-10))\n",
    "print(bool(-10.01))\n",
    "print(bool(0))\n",
    "print(bool(0.))"
   ]
  },
  {
   "cell_type": "code",
   "execution_count": 19,
   "metadata": {
    "ExecuteTime": {
     "end_time": "2020-09-24T06:18:22.041593Z",
     "start_time": "2020-09-24T06:18:22.034802Z"
    }
   },
   "outputs": [
    {
     "data": {
      "text/plain": [
       "10.91301"
      ]
     },
     "execution_count": 19,
     "metadata": {},
     "output_type": "execute_result"
    }
   ],
   "source": [
    "round(10.91301, 10)"
   ]
  },
  {
   "cell_type": "code",
   "execution_count": 20,
   "metadata": {
    "ExecuteTime": {
     "end_time": "2020-09-24T06:18:22.053047Z",
     "start_time": "2020-09-24T06:18:22.047401Z"
    }
   },
   "outputs": [
    {
     "name": "stdout",
     "output_type": "stream",
     "text": [
      "10\n",
      "<class 'int'>\n",
      "10.0\n",
      "<class 'float'>\n"
     ]
    }
   ],
   "source": [
    "# type conversion float & int constructor\n",
    "print(int(10.9))\n",
    "print(type(int(10.9)))\n",
    "\n",
    "print(float(10))\n",
    "print(type(float(10)))"
   ]
  },
  {
   "cell_type": "code",
   "execution_count": 21,
   "metadata": {
    "ExecuteTime": {
     "end_time": "2020-09-24T06:18:22.061654Z",
     "start_time": "2020-09-24T06:18:22.057456Z"
    }
   },
   "outputs": [
    {
     "name": "stdout",
     "output_type": "stream",
     "text": [
      "hacktiv8\n",
      "41\n",
      "<class 'int'>\n"
     ]
    }
   ],
   "source": [
    "hacktiv8 = 41\n",
    "print(\"hacktiv8\")\n",
    "print(hacktiv8)\n",
    "print(type(hacktiv8))"
   ]
  },
  {
   "cell_type": "code",
   "execution_count": 27,
   "metadata": {
    "ExecuteTime": {
     "end_time": "2020-09-24T06:19:00.385111Z",
     "start_time": "2020-09-24T06:19:00.338688Z"
    }
   },
   "outputs": [
    {
     "ename": "NameError",
     "evalue": "name 'intro_to_python' is not defined",
     "output_type": "error",
     "traceback": [
      "\u001b[0;31m---------------------------------------------------------------------------\u001b[0m",
      "\u001b[0;31mNameError\u001b[0m                                 Traceback (most recent call last)",
      "\u001b[0;32m<ipython-input-27-e0d996c49b68>\u001b[0m in \u001b[0;36m<module>\u001b[0;34m\u001b[0m\n\u001b[0;32m----> 1\u001b[0;31m \u001b[0mintro_to_python\u001b[0m\u001b[0;34m\u001b[0m\u001b[0;34m\u001b[0m\u001b[0m\n\u001b[0m",
      "\u001b[0;31mNameError\u001b[0m: name 'intro_to_python' is not defined"
     ]
    }
   ],
   "source": [
    "intro_to_python "
   ]
  },
  {
   "cell_type": "code",
   "execution_count": null,
   "metadata": {
    "ExecuteTime": {
     "end_time": "2020-09-24T06:19:00.387812Z",
     "start_time": "2020-09-24T06:19:00.324Z"
    },
    "scrolled": true
   },
   "outputs": [],
   "source": [
    "a = b = c = 400\n",
    "d = 300\n",
    "print(a, b, c, d)"
   ]
  },
  {
   "cell_type": "code",
   "execution_count": null,
   "metadata": {
    "ExecuteTime": {
     "end_time": "2020-09-24T06:19:00.392713Z",
     "start_time": "2020-09-24T06:19:00.326Z"
    }
   },
   "outputs": [],
   "source": [
    "d = 400\n",
    "print(a, b, c, d)"
   ]
  },
  {
   "cell_type": "code",
   "execution_count": 28,
   "metadata": {
    "ExecuteTime": {
     "end_time": "2020-09-24T06:19:00.506671Z",
     "start_time": "2020-09-24T06:19:00.503567Z"
    }
   },
   "outputs": [],
   "source": [
    "# intro to python = 41   # invalid syntax\n",
    "intro_to_python = 41"
   ]
  },
  {
   "cell_type": "code",
   "execution_count": 29,
   "metadata": {
    "ExecuteTime": {
     "end_time": "2020-09-24T06:19:00.513914Z",
     "start_time": "2020-09-24T06:19:00.509584Z"
    }
   },
   "outputs": [
    {
     "data": {
      "text/plain": [
       "41"
      ]
     },
     "execution_count": 29,
     "metadata": {},
     "output_type": "execute_result"
    }
   ],
   "source": [
    "intro_to_python"
   ]
  },
  {
   "cell_type": "code",
   "execution_count": 30,
   "metadata": {
    "ExecuteTime": {
     "end_time": "2020-09-24T06:19:00.521221Z",
     "start_time": "2020-09-24T06:19:00.517809Z"
    }
   },
   "outputs": [
    {
     "name": "stdout",
     "output_type": "stream",
     "text": [
      "41.0\n"
     ]
    }
   ],
   "source": [
    "Hacktiv8 = 41.0\n",
    "print(Hacktiv8)"
   ]
  },
  {
   "cell_type": "code",
   "execution_count": 31,
   "metadata": {
    "ExecuteTime": {
     "end_time": "2020-09-24T06:19:00.528689Z",
     "start_time": "2020-09-24T06:19:00.524041Z"
    }
   },
   "outputs": [
    {
     "ename": "SyntaxError",
     "evalue": "invalid token (<ipython-input-31-91202a21561a>, line 1)",
     "output_type": "error",
     "traceback": [
      "\u001b[0;36m  File \u001b[0;32m\"<ipython-input-31-91202a21561a>\"\u001b[0;36m, line \u001b[0;32m1\u001b[0m\n\u001b[0;31m    8_Hacktiv8 = 41\u001b[0m\n\u001b[0m     ^\u001b[0m\n\u001b[0;31mSyntaxError\u001b[0m\u001b[0;31m:\u001b[0m invalid token\n"
     ]
    }
   ],
   "source": [
    "8_Hacktiv8 = 41"
   ]
  },
  {
   "cell_type": "code",
   "execution_count": 32,
   "metadata": {
    "ExecuteTime": {
     "end_time": "2020-09-24T06:19:08.288143Z",
     "start_time": "2020-09-24T06:19:08.277724Z"
    }
   },
   "outputs": [
    {
     "name": "stdout",
     "output_type": "stream",
     "text": [
      "True\n"
     ]
    }
   ],
   "source": [
    "_is_active = True\n",
    "print(_is_active)"
   ]
  },
  {
   "cell_type": "code",
   "execution_count": 33,
   "metadata": {
    "ExecuteTime": {
     "end_time": "2020-09-24T06:19:08.326777Z",
     "start_time": "2020-09-24T06:19:08.306927Z"
    }
   },
   "outputs": [
    {
     "name": "stdout",
     "output_type": "stream",
     "text": [
      "True\n"
     ]
    }
   ],
   "source": [
    "is_act_ = True\n",
    "print(is_act_)"
   ]
  },
  {
   "cell_type": "code",
   "execution_count": 34,
   "metadata": {
    "ExecuteTime": {
     "end_time": "2020-09-24T06:19:08.401435Z",
     "start_time": "2020-09-24T06:19:08.353701Z"
    }
   },
   "outputs": [
    {
     "name": "stdout",
     "output_type": "stream",
     "text": [
      "14\n",
      "8\n",
      "33\n",
      "3.6666666666666665\n",
      "3\n",
      "2\n",
      "1331\n"
     ]
    }
   ],
   "source": [
    "a = 11\n",
    "b = 3\n",
    "\n",
    "print(a + b)\n",
    "print(a - b)\n",
    "print(a * b)\n",
    "print(a / b)\n",
    "print(a // b)\n",
    "print(a % b)    # modulo\n",
    "print(a ** b)"
   ]
  },
  {
   "cell_type": "code",
   "execution_count": 35,
   "metadata": {
    "ExecuteTime": {
     "end_time": "2020-09-24T06:19:08.427613Z",
     "start_time": "2020-09-24T06:19:08.420484Z"
    }
   },
   "outputs": [
    {
     "data": {
      "text/plain": [
       "2"
      ]
     },
     "execution_count": 35,
     "metadata": {},
     "output_type": "execute_result"
    }
   ],
   "source": [
    "11 - 3 * 3"
   ]
  },
  {
   "cell_type": "code",
   "execution_count": 36,
   "metadata": {
    "ExecuteTime": {
     "end_time": "2020-09-24T06:19:08.436507Z",
     "start_time": "2020-09-24T06:19:08.430979Z"
    }
   },
   "outputs": [
    {
     "data": {
      "text/plain": [
       "11"
      ]
     },
     "execution_count": 36,
     "metadata": {},
     "output_type": "execute_result"
    }
   ],
   "source": [
    "5 + 3 * 2"
   ]
  },
  {
   "cell_type": "code",
   "execution_count": 37,
   "metadata": {
    "ExecuteTime": {
     "end_time": "2020-09-24T06:19:08.447473Z",
     "start_time": "2020-09-24T06:19:08.440500Z"
    }
   },
   "outputs": [
    {
     "name": "stdout",
     "output_type": "stream",
     "text": [
      "False\n",
      "True\n",
      "True\n",
      "False\n",
      "True\n",
      "False\n",
      "<class 'bool'>\n",
      "False\n"
     ]
    }
   ],
   "source": [
    "print(a == b)\n",
    "print(a != b)\n",
    "print(a > b)\n",
    "print(a < b)\n",
    "print(a >= b)\n",
    "print(a <= b)\n",
    "print(type(a <= b))\n",
    "print(10 > 10.)"
   ]
  },
  {
   "cell_type": "code",
   "execution_count": 38,
   "metadata": {
    "ExecuteTime": {
     "end_time": "2020-09-24T06:19:08.456253Z",
     "start_time": "2020-09-24T06:19:08.450320Z"
    }
   },
   "outputs": [
    {
     "name": "stdout",
     "output_type": "stream",
     "text": [
      "foobar\n",
      "foobarbaz\n",
      "hacktiv8PTP\n",
      "foo baz bar\n",
      "foo. baz. bar.\n"
     ]
    }
   ],
   "source": [
    "s = 'foo'\n",
    "f = 'bar'\n",
    "u = 'baz'\n",
    "\n",
    "print(s + f) # concat -> concatenation\n",
    "print(s + f + u)\n",
    "print('hacktiv8' + 'PTP')\n",
    "print(s + ' ' + u + ' ' + f)\n",
    "print(s + '. ' + u + '. ' + f + '.')"
   ]
  },
  {
   "cell_type": "code",
   "execution_count": 39,
   "metadata": {
    "ExecuteTime": {
     "end_time": "2020-09-24T06:19:08.478464Z",
     "start_time": "2020-09-24T06:19:08.459519Z"
    }
   },
   "outputs": [
    {
     "ename": "TypeError",
     "evalue": "unsupported operand type(s) for -: 'str' and 'str'",
     "output_type": "error",
     "traceback": [
      "\u001b[0;31m---------------------------------------------------------------------------\u001b[0m",
      "\u001b[0;31mTypeError\u001b[0m                                 Traceback (most recent call last)",
      "\u001b[0;32m<ipython-input-39-e77ce07f1d6b>\u001b[0m in \u001b[0;36m<module>\u001b[0;34m\u001b[0m\n\u001b[0;32m----> 1\u001b[0;31m \u001b[0mprint\u001b[0m\u001b[0;34m(\u001b[0m\u001b[0ms\u001b[0m \u001b[0;34m-\u001b[0m \u001b[0mf\u001b[0m\u001b[0;34m)\u001b[0m\u001b[0;34m\u001b[0m\u001b[0;34m\u001b[0m\u001b[0m\n\u001b[0m",
      "\u001b[0;31mTypeError\u001b[0m: unsupported operand type(s) for -: 'str' and 'str'"
     ]
    }
   ],
   "source": [
    "print(s - f)"
   ]
  },
  {
   "cell_type": "code",
   "execution_count": 40,
   "metadata": {
    "ExecuteTime": {
     "end_time": "2020-09-24T06:19:14.013217Z",
     "start_time": "2020-09-24T06:19:13.989584Z"
    }
   },
   "outputs": [
    {
     "name": "stdout",
     "output_type": "stream",
     "text": [
      "foofoofoofoo\n",
      "foo. . . . \n"
     ]
    }
   ],
   "source": [
    "print(s * 4)\n",
    "print(s + \". \" * 4)"
   ]
  },
  {
   "cell_type": "code",
   "execution_count": 41,
   "metadata": {
    "ExecuteTime": {
     "end_time": "2020-09-24T06:19:14.044610Z",
     "start_time": "2020-09-24T06:19:14.037321Z"
    }
   },
   "outputs": [
    {
     "data": {
      "text/plain": [
       "'h -+ a -+ c -+ k -+ t -+ i -+ v -+ 8'"
      ]
     },
     "execution_count": 41,
     "metadata": {},
     "output_type": "execute_result"
    }
   ],
   "source": [
    "\" -+ \".join(\"hacktiv8\")"
   ]
  },
  {
   "cell_type": "code",
   "execution_count": 42,
   "metadata": {
    "ExecuteTime": {
     "end_time": "2020-09-24T06:19:14.060800Z",
     "start_time": "2020-09-24T06:19:14.054780Z"
    }
   },
   "outputs": [
    {
     "name": "stdout",
     "output_type": "stream",
     "text": [
      "True\n",
      "False\n",
      "False\n",
      "True\n"
     ]
    }
   ],
   "source": [
    "s = \"foo\"\n",
    "sp = ' '\n",
    "\n",
    "print(s in \"the food for us\")\n",
    "print(s in \"the good for us\")\n",
    "print(sp in \"the-food-for-us\")\n",
    "print(sp in \"the good for us\")"
   ]
  },
  {
   "cell_type": "code",
   "execution_count": 43,
   "metadata": {
    "ExecuteTime": {
     "end_time": "2020-09-24T06:19:14.075180Z",
     "start_time": "2020-09-24T06:19:14.065492Z"
    }
   },
   "outputs": [
    {
     "name": "stdout",
     "output_type": "stream",
     "text": [
      "Hacktiv8 course\n",
      "hacktiv8 course\n",
      "hACKtiv8 COurSE\n",
      "Hacktiv8 Course\n",
      "HACKTIV8 COURSE\n"
     ]
    }
   ],
   "source": [
    "course = \"HackTIV8 coURse\"\n",
    "\n",
    "print(course.capitalize())\n",
    "print(course.lower())\n",
    "print(course.swapcase())\n",
    "print(course.title())\n",
    "print(course.upper())"
   ]
  },
  {
   "cell_type": "code",
   "execution_count": 44,
   "metadata": {
    "ExecuteTime": {
     "end_time": "2020-09-24T06:19:14.092825Z",
     "start_time": "2020-09-24T06:19:14.079776Z"
    }
   },
   "outputs": [
    {
     "name": "stdout",
     "output_type": "stream",
     "text": [
      "['foo', 'bar', 'baz']\n",
      "<class 'list'>\n",
      "['a', 10, 'b', 9.1, True]\n",
      "<class 'list'>\n",
      "[1, 2, 3, [1, 2, 3, [1, 2, 3]]]\n",
      "<class 'list'>\n"
     ]
    }
   ],
   "source": [
    "a = ['foo', 'bar', 'baz']\n",
    "ar = ['baz', 'bar', 'foo']\n",
    "b = [\"a\", 10, \"b\", 9.1, True]\n",
    "c = [1, 2, 3, [1, 2, 3, [1, 2, 3]]]\n",
    "print(a)\n",
    "print(type(a))\n",
    "print(b)\n",
    "print(type(b))\n",
    "print(c)\n",
    "print(type(c))"
   ]
  },
  {
   "cell_type": "code",
   "execution_count": 45,
   "metadata": {
    "ExecuteTime": {
     "end_time": "2020-09-24T06:19:14.102499Z",
     "start_time": "2020-09-24T06:19:14.097508Z"
    }
   },
   "outputs": [
    {
     "data": {
      "text/plain": [
       "(False, True)"
      ]
     },
     "execution_count": 45,
     "metadata": {},
     "output_type": "execute_result"
    }
   ],
   "source": [
    "a == ar, a == a"
   ]
  },
  {
   "cell_type": "code",
   "execution_count": 46,
   "metadata": {
    "ExecuteTime": {
     "end_time": "2020-09-24T06:19:14.110583Z",
     "start_time": "2020-09-24T06:19:14.106403Z"
    }
   },
   "outputs": [
    {
     "name": "stdout",
     "output_type": "stream",
     "text": [
      "number of element in a: 3\n"
     ]
    }
   ],
   "source": [
    "length_a = len(a)\n",
    "print(\"number of element in a:\", length_a)"
   ]
  },
  {
   "cell_type": "code",
   "execution_count": 47,
   "metadata": {
    "ExecuteTime": {
     "end_time": "2020-09-24T06:19:14.128565Z",
     "start_time": "2020-09-24T06:19:14.118854Z"
    }
   },
   "outputs": [
    {
     "name": "stdout",
     "output_type": "stream",
     "text": [
      "foo bar\n",
      "baz\n"
     ]
    },
    {
     "ename": "IndexError",
     "evalue": "list index out of range",
     "output_type": "error",
     "traceback": [
      "\u001b[0;31m---------------------------------------------------------------------------\u001b[0m",
      "\u001b[0;31mIndexError\u001b[0m                                Traceback (most recent call last)",
      "\u001b[0;32m<ipython-input-47-d782473b7c22>\u001b[0m in \u001b[0;36m<module>\u001b[0;34m\u001b[0m\n\u001b[1;32m      1\u001b[0m \u001b[0mprint\u001b[0m\u001b[0;34m(\u001b[0m\u001b[0ma\u001b[0m\u001b[0;34m[\u001b[0m\u001b[0;36m0\u001b[0m\u001b[0;34m]\u001b[0m\u001b[0;34m,\u001b[0m \u001b[0ma\u001b[0m\u001b[0;34m[\u001b[0m\u001b[0;36m1\u001b[0m\u001b[0;34m]\u001b[0m\u001b[0;34m)\u001b[0m\u001b[0;34m\u001b[0m\u001b[0;34m\u001b[0m\u001b[0m\n\u001b[1;32m      2\u001b[0m \u001b[0mprint\u001b[0m\u001b[0;34m(\u001b[0m\u001b[0ma\u001b[0m\u001b[0;34m[\u001b[0m\u001b[0;36m2\u001b[0m\u001b[0;34m]\u001b[0m\u001b[0;34m)\u001b[0m\u001b[0;34m\u001b[0m\u001b[0;34m\u001b[0m\u001b[0m\n\u001b[0;32m----> 3\u001b[0;31m \u001b[0mprint\u001b[0m\u001b[0;34m(\u001b[0m\u001b[0ma\u001b[0m\u001b[0;34m[\u001b[0m\u001b[0;36m3\u001b[0m\u001b[0;34m]\u001b[0m\u001b[0;34m)\u001b[0m\u001b[0;34m\u001b[0m\u001b[0;34m\u001b[0m\u001b[0m\n\u001b[0m",
      "\u001b[0;31mIndexError\u001b[0m: list index out of range"
     ]
    }
   ],
   "source": [
    "print(a[0], a[1])\n",
    "print(a[2])\n",
    "print(a[3])"
   ]
  },
  {
   "cell_type": "code",
   "execution_count": 48,
   "metadata": {
    "ExecuteTime": {
     "end_time": "2020-09-24T06:19:18.511479Z",
     "start_time": "2020-09-24T06:19:18.499633Z"
    }
   },
   "outputs": [
    {
     "name": "stdout",
     "output_type": "stream",
     "text": [
      "baz bar foo\n"
     ]
    }
   ],
   "source": [
    "print(a[-1], a[-2], a[-3])"
   ]
  },
  {
   "cell_type": "code",
   "execution_count": 49,
   "metadata": {
    "ExecuteTime": {
     "end_time": "2020-09-24T06:19:18.522801Z",
     "start_time": "2020-09-24T06:19:18.516327Z"
    }
   },
   "outputs": [
    {
     "name": "stdout",
     "output_type": "stream",
     "text": [
      "10\n"
     ]
    }
   ],
   "source": [
    "mylist = [1, 3, 3, 4, 5, 2, 5, 7, 2, 6, 10]\n",
    "print(mylist[-1])"
   ]
  },
  {
   "cell_type": "code",
   "execution_count": 50,
   "metadata": {
    "ExecuteTime": {
     "end_time": "2020-09-24T06:19:18.535533Z",
     "start_time": "2020-09-24T06:19:18.528747Z"
    }
   },
   "outputs": [
    {
     "name": "stdout",
     "output_type": "stream",
     "text": [
      "[1, 3, 3, 4, 5, 2]\n",
      "[1, 3, 3, 4, 5, 2]\n",
      "[2, 5, 7, 2, 6, 10]\n",
      "[2, 5, 7, 2, 6]\n"
     ]
    }
   ],
   "source": [
    "print(mylist[0:6])\n",
    "print(mylist[:6])\n",
    "print(mylist[5:])\n",
    "print(mylist[-6:-1])"
   ]
  },
  {
   "cell_type": "code",
   "execution_count": 51,
   "metadata": {
    "ExecuteTime": {
     "end_time": "2020-09-24T06:19:18.565467Z",
     "start_time": "2020-09-24T06:19:18.540744Z"
    }
   },
   "outputs": [
    {
     "name": "stdout",
     "output_type": "stream",
     "text": [
      "[]\n"
     ]
    }
   ],
   "source": [
    "print(mylist[-1:-6]) # why?"
   ]
  },
  {
   "cell_type": "code",
   "execution_count": 52,
   "metadata": {
    "ExecuteTime": {
     "end_time": "2020-09-24T06:19:18.576641Z",
     "start_time": "2020-09-24T06:19:18.570401Z"
    }
   },
   "outputs": [
    {
     "data": {
      "text/plain": [
       "(1, 10)"
      ]
     },
     "execution_count": 52,
     "metadata": {},
     "output_type": "execute_result"
    }
   ],
   "source": [
    "min(mylist), max(mylist)"
   ]
  },
  {
   "cell_type": "code",
   "execution_count": 53,
   "metadata": {
    "ExecuteTime": {
     "end_time": "2020-09-24T06:19:18.587478Z",
     "start_time": "2020-09-24T06:19:18.580942Z"
    }
   },
   "outputs": [
    {
     "data": {
      "text/plain": [
       "[1, 2, 3, [1, 2, 3, [1, 2, 3]]]"
      ]
     },
     "execution_count": 53,
     "metadata": {},
     "output_type": "execute_result"
    }
   ],
   "source": [
    "c"
   ]
  },
  {
   "cell_type": "code",
   "execution_count": 54,
   "metadata": {
    "ExecuteTime": {
     "end_time": "2020-09-24T06:19:18.599811Z",
     "start_time": "2020-09-24T06:19:18.591445Z"
    }
   },
   "outputs": [
    {
     "name": "stdout",
     "output_type": "stream",
     "text": [
      "4\n",
      "1\n",
      "2\n",
      "3\n",
      "[1, 2, 3, [1, 2, 3]]\n"
     ]
    }
   ],
   "source": [
    "len_c = len(c)\n",
    "print(len_c)\n",
    "print(c[0], c[1], c[2], c[3], sep=\"\\n\")"
   ]
  },
  {
   "cell_type": "code",
   "execution_count": 55,
   "metadata": {
    "ExecuteTime": {
     "end_time": "2020-09-24T06:19:18.613964Z",
     "start_time": "2020-09-24T06:19:18.604870Z"
    }
   },
   "outputs": [
    {
     "data": {
      "text/plain": [
       "3"
      ]
     },
     "execution_count": 55,
     "metadata": {},
     "output_type": "execute_result"
    }
   ],
   "source": [
    "c[3][3][-1]"
   ]
  },
  {
   "cell_type": "code",
   "execution_count": 56,
   "metadata": {
    "ExecuteTime": {
     "end_time": "2020-09-24T06:19:18.758783Z",
     "start_time": "2020-09-24T06:19:18.619688Z"
    }
   },
   "outputs": [
    {
     "name": "stdout",
     "output_type": "stream",
     "text": [
      "/Users/syahrulhamdani/projects/pytn\n"
     ]
    }
   ],
   "source": [
    "!pwd"
   ]
  },
  {
   "cell_type": "code",
   "execution_count": 8,
   "metadata": {
    "ExecuteTime": {
     "end_time": "2020-09-24T12:16:12.507844Z",
     "start_time": "2020-09-24T12:16:12.497881Z"
    }
   },
   "outputs": [
    {
     "data": {
      "text/plain": [
       "'Whether you think you can, or you think you can\"t--you\"re right.'"
      ]
     },
     "execution_count": 8,
     "metadata": {},
     "output_type": "execute_result"
    }
   ],
   "source": [
    "ford_quote = \"Whether you think you can, or you think you can\\\"t--you\\\"re right.\"\n",
    "ford_quote"
   ]
  },
  {
   "cell_type": "code",
   "execution_count": 11,
   "metadata": {
    "ExecuteTime": {
     "end_time": "2020-09-24T12:17:04.910612Z",
     "start_time": "2020-09-24T12:17:04.906948Z"
    }
   },
   "outputs": [],
   "source": [
    "mylist = [1, 2, 3, 4, 5, 6, 7]"
   ]
  },
  {
   "cell_type": "code",
   "execution_count": 23,
   "metadata": {
    "ExecuteTime": {
     "end_time": "2020-09-24T12:21:48.794904Z",
     "start_time": "2020-09-24T12:21:48.786812Z"
    }
   },
   "outputs": [
    {
     "name": "stdout",
     "output_type": "stream",
     "text": [
      "[1, 2, 3, 4, 5, 6, 7]\n",
      "[7, 6, 5, 4, 3, 2, 1]\n"
     ]
    }
   ],
   "source": [
    "print(mylist[::1])\n",
    "print(mylist[::-1])   # [7, 6, 5, 4, 3, 2, 1]"
   ]
  },
  {
   "cell_type": "code",
   "execution_count": 28,
   "metadata": {
    "ExecuteTime": {
     "end_time": "2020-09-24T12:27:33.829184Z",
     "start_time": "2020-09-24T12:27:33.822309Z"
    }
   },
   "outputs": [
    {
     "name": "stdout",
     "output_type": "stream",
     "text": [
      "('foo', 'bar', 'baz', 'quux') <class 'tuple'> <class 'list'> <class 'str'>\n"
     ]
    }
   ],
   "source": [
    "mytuple = (\"foo\", \"bar\", \"baz\", \"quux\")\n",
    "print(mytuple, type(mytuple), type(mylist), type(\"foo\"))"
   ]
  },
  {
   "cell_type": "code",
   "execution_count": 32,
   "metadata": {
    "ExecuteTime": {
     "end_time": "2020-09-24T12:28:44.535209Z",
     "start_time": "2020-09-24T12:28:44.524426Z"
    }
   },
   "outputs": [
    {
     "ename": "TypeError",
     "evalue": "'tuple' object does not support item assignment",
     "output_type": "error",
     "traceback": [
      "\u001b[0;31m---------------------------------------------------------------------------\u001b[0m",
      "\u001b[0;31mTypeError\u001b[0m                                 Traceback (most recent call last)",
      "\u001b[0;32m<ipython-input-32-d742b6b37fc9>\u001b[0m in \u001b[0;36m<module>\u001b[0;34m\u001b[0m\n\u001b[0;32m----> 1\u001b[0;31m \u001b[0mmytuple\u001b[0m\u001b[0;34m[\u001b[0m\u001b[0;36m0\u001b[0m\u001b[0;34m]\u001b[0m \u001b[0;34m=\u001b[0m \u001b[0;34m\"corge\"\u001b[0m\u001b[0;34m\u001b[0m\u001b[0;34m\u001b[0m\u001b[0m\n\u001b[0m",
      "\u001b[0;31mTypeError\u001b[0m: 'tuple' object does not support item assignment"
     ]
    }
   ],
   "source": [
    "mytuple[0] = \"corge\""
   ]
  },
  {
   "cell_type": "code",
   "execution_count": 33,
   "metadata": {
    "ExecuteTime": {
     "end_time": "2020-09-24T12:28:50.425682Z",
     "start_time": "2020-09-24T12:28:50.418981Z"
    }
   },
   "outputs": [
    {
     "data": {
      "text/plain": [
       "('quux', 'baz', 'bar', 'foo')"
      ]
     },
     "execution_count": 33,
     "metadata": {},
     "output_type": "execute_result"
    }
   ],
   "source": [
    "mytuple[::-1]"
   ]
  },
  {
   "cell_type": "code",
   "execution_count": 37,
   "metadata": {
    "ExecuteTime": {
     "end_time": "2020-09-24T12:30:16.780134Z",
     "start_time": "2020-09-24T12:30:16.747793Z"
    }
   },
   "outputs": [
    {
     "name": "stdout",
     "output_type": "stream",
     "text": [
      "8vitkcah 8 hackt\n"
     ]
    }
   ],
   "source": [
    "h8 = \"hacktiv8\"\n",
    "print(h8[::-1], h8[-1], h8[:-3])"
   ]
  },
  {
   "cell_type": "code",
   "execution_count": 40,
   "metadata": {
    "ExecuteTime": {
     "end_time": "2020-09-24T12:30:51.370969Z",
     "start_time": "2020-09-24T12:30:51.356578Z"
    }
   },
   "outputs": [
    {
     "ename": "TypeError",
     "evalue": "'str' object does not support item assignment",
     "output_type": "error",
     "traceback": [
      "\u001b[0;31m---------------------------------------------------------------------------\u001b[0m",
      "\u001b[0;31mTypeError\u001b[0m                                 Traceback (most recent call last)",
      "\u001b[0;32m<ipython-input-40-8d250c93dec9>\u001b[0m in \u001b[0;36m<module>\u001b[0;34m\u001b[0m\n\u001b[0;32m----> 1\u001b[0;31m \u001b[0mh8\u001b[0m\u001b[0;34m[\u001b[0m\u001b[0;36m0\u001b[0m\u001b[0;34m]\u001b[0m \u001b[0;34m=\u001b[0m \u001b[0;36m10.\u001b[0m\u001b[0;34m\u001b[0m\u001b[0;34m\u001b[0m\u001b[0m\n\u001b[0m",
      "\u001b[0;31mTypeError\u001b[0m: 'str' object does not support item assignment"
     ]
    }
   ],
   "source": [
    "h8[0] = 10."
   ]
  },
  {
   "cell_type": "code",
   "execution_count": 41,
   "metadata": {
    "ExecuteTime": {
     "end_time": "2020-09-24T12:31:51.265240Z",
     "start_time": "2020-09-24T12:31:51.252158Z"
    }
   },
   "outputs": [
    {
     "name": "stdout",
     "output_type": "stream",
     "text": [
      "10 10 10\n"
     ]
    }
   ],
   "source": [
    "a = b = c = 10\n",
    "print(a, b, c)"
   ]
  },
  {
   "cell_type": "code",
   "execution_count": 46,
   "metadata": {
    "ExecuteTime": {
     "end_time": "2020-09-24T12:33:33.076938Z",
     "start_time": "2020-09-24T12:33:33.071278Z"
    }
   },
   "outputs": [
    {
     "name": "stdout",
     "output_type": "stream",
     "text": [
      "qux\n",
      "foo bar baz qux\n"
     ]
    }
   ],
   "source": [
    "s1, s2, s3, s4 = (\"foo\", \"bar\", \"baz\", \"qux\")\n",
    "print(s4)\n",
    "print(s1, s2, s3, s4)"
   ]
  },
  {
   "cell_type": "code",
   "execution_count": 50,
   "metadata": {
    "ExecuteTime": {
     "end_time": "2020-09-24T12:34:31.092663Z",
     "start_time": "2020-09-24T12:34:31.059321Z"
    }
   },
   "outputs": [
    {
     "data": {
      "text/plain": [
       "('foo', 'bar', 'baz', 'quux')"
      ]
     },
     "execution_count": 50,
     "metadata": {},
     "output_type": "execute_result"
    }
   ],
   "source": [
    "mytuple"
   ]
  },
  {
   "cell_type": "code",
   "execution_count": 51,
   "metadata": {
    "ExecuteTime": {
     "end_time": "2020-09-24T12:34:56.736535Z",
     "start_time": "2020-09-24T12:34:56.730005Z"
    }
   },
   "outputs": [
    {
     "name": "stdout",
     "output_type": "stream",
     "text": [
      "baz quux\n"
     ]
    }
   ],
   "source": [
    "t1, t2, t3, t4 = mytuple\n",
    "print(t3, t4)"
   ]
  },
  {
   "cell_type": "code",
   "execution_count": 54,
   "metadata": {
    "ExecuteTime": {
     "end_time": "2020-09-24T12:36:42.847137Z",
     "start_time": "2020-09-24T12:36:42.821087Z"
    }
   },
   "outputs": [
    {
     "name": "stdout",
     "output_type": "stream",
     "text": [
      "foo bar ['baz', 'quux']\n",
      "foo ['bar', 'baz', 'quux']\n"
     ]
    }
   ],
   "source": [
    "t1, t2, *t3 = mytuple\n",
    "print(t1, t2, t3)\n",
    "\n",
    "h1, *h2 = mytuple\n",
    "print(h1, h2)"
   ]
  },
  {
   "cell_type": "code",
   "execution_count": 59,
   "metadata": {
    "ExecuteTime": {
     "end_time": "2020-09-24T12:39:01.648810Z",
     "start_time": "2020-09-24T12:39:01.645466Z"
    }
   },
   "outputs": [
    {
     "name": "stdout",
     "output_type": "stream",
     "text": [
      "[1, 2, 3, 4, 5, 6] 7 <class 'list'> <class 'int'>\n"
     ]
    }
   ],
   "source": [
    "*t1, t2 = mylist\n",
    "print(t1, t2, type(t1), type(t2))"
   ]
  },
  {
   "cell_type": "code",
   "execution_count": 84,
   "metadata": {
    "ExecuteTime": {
     "end_time": "2020-09-24T12:47:54.458709Z",
     "start_time": "2020-09-24T12:47:54.448507Z"
    }
   },
   "outputs": [
    {
     "name": "stdout",
     "output_type": "stream",
     "text": [
      "1 [2, 3, 4, 5] 6 7\n",
      "foo ['bar', 'baz'] quux\n",
      "foo ('bar', 'baz') <class 'tuple'> quux\n",
      "foo ('bar', 'baz') <class 'str'>   ('bar', ' quux\n"
     ]
    }
   ],
   "source": [
    "t1, *t2, t3, t4 = mylist\n",
    "print(t1, t2, t3, t4)\n",
    "\n",
    "t1, *t2, t3  = mytuple\n",
    "print(t1, t2, t3)\n",
    "t2 = tuple(t2)\n",
    "print(t1, t2, type(t2), t3)\n",
    "t2 = str(t2)\n",
    "print(t1, t2, type(t2), t2[7], t2[:9], t3)\n",
    "\n",
    "# t1, *t2, t3, t4, t5, t6 = mytuple\n",
    "# print(t1, t2, t3, t4, t5)"
   ]
  },
  {
   "cell_type": "code",
   "execution_count": 88,
   "metadata": {
    "ExecuteTime": {
     "end_time": "2020-09-24T12:48:44.375138Z",
     "start_time": "2020-09-24T12:48:44.360269Z"
    }
   },
   "outputs": [
    {
     "data": {
      "text/plain": [
       "\"('Bar', 'Baz')\""
      ]
     },
     "execution_count": 88,
     "metadata": {},
     "output_type": "execute_result"
    }
   ],
   "source": [
    "t2.title()"
   ]
  },
  {
   "cell_type": "code",
   "execution_count": 75,
   "metadata": {
    "ExecuteTime": {
     "end_time": "2020-09-24T12:45:01.980128Z",
     "start_time": "2020-09-24T12:45:01.974631Z"
    }
   },
   "outputs": [
    {
     "data": {
      "text/plain": [
       "'foo'"
      ]
     },
     "execution_count": 75,
     "metadata": {},
     "output_type": "execute_result"
    }
   ],
   "source": [
    "t1, t2, t3, t4 = mytuple\n",
    "t1"
   ]
  },
  {
   "cell_type": "code",
   "execution_count": 129,
   "metadata": {
    "ExecuteTime": {
     "end_time": "2020-09-24T13:24:33.735857Z",
     "start_time": "2020-09-24T13:24:33.729888Z"
    }
   },
   "outputs": [
    {
     "name": "stdout",
     "output_type": "stream",
     "text": [
      "{'hydrogen': 1, 'helium': 2, 'carbon': 6, 0: 100, 'oxygen': 8, 'batch': 41, 'el': [1, 2, 3, 4]} <class 'dict'>\n"
     ]
    }
   ],
   "source": [
    "elements = {\n",
    "    \"hydrogen\": 1,\n",
    "    \"helium\": 2,\n",
    "    \"carbon\": 6,\n",
    "    0: 100,\n",
    "    'oxygen': 8,\n",
    "    \"batch\": 41,\n",
    "    \"el\": [1, 2, 3, 4]\n",
    "}\n",
    "print(elements, type(elements))"
   ]
  },
  {
   "cell_type": "code",
   "execution_count": 110,
   "metadata": {
    "ExecuteTime": {
     "end_time": "2020-09-24T13:03:53.978462Z",
     "start_time": "2020-09-24T13:03:53.970898Z"
    }
   },
   "outputs": [
    {
     "name": "stdout",
     "output_type": "stream",
     "text": [
      "1\n",
      "8\n",
      "41\n",
      "100\n",
      "[1, 2, 3, 4]\n",
      "can't find any key\n",
      "1\n",
      "0\n"
     ]
    }
   ],
   "source": [
    "print(elements[\"hydrogen\"])\n",
    "print(elements[\"oxygen\"])\n",
    "print(elements[\"batch\"])\n",
    "print(elements[0])\n",
    "print(elements[\"el\"])\n",
    "print(elements.get(\"argon\", \"can't find any key\"))\n",
    "print(elements.get(\"hydrogen\"))\n",
    "print(elements.get(\"argon\", 0))"
   ]
  },
  {
   "cell_type": "code",
   "execution_count": 112,
   "metadata": {
    "ExecuteTime": {
     "end_time": "2020-09-24T13:05:57.277317Z",
     "start_time": "2020-09-24T13:05:57.271720Z"
    }
   },
   "outputs": [
    {
     "name": "stdout",
     "output_type": "stream",
     "text": [
      "10\n",
      "{}\n",
      "{'carbon': 6}\n"
     ]
    }
   ],
   "source": [
    "elements[\"argon\"] = 10\n",
    "print(elements.get(\"argon\", \"can't find any key\"))\n",
    "\n",
    "element = {}\n",
    "print(element)\n",
    "element[\"carbon\"] = 6\n",
    "print(element)"
   ]
  },
  {
   "cell_type": "code",
   "execution_count": 125,
   "metadata": {
    "ExecuteTime": {
     "end_time": "2020-09-24T13:15:25.245837Z",
     "start_time": "2020-09-24T13:15:25.216147Z"
    }
   },
   "outputs": [
    {
     "name": "stdout",
     "output_type": "stream",
     "text": [
      "dict_keys(['hydrogen', 'helium', 'carbon', 0, 'oxygen', 'batch', 'el'])\n",
      "['hydrogen', 'helium', 'carbon', 0, 'oxygen', 'batch', 'el']\n",
      "dict_values([1, 2, 6, 100, 8, 41, [1, 2, 3, 4]])\n",
      "[1, 2, 6, 100, 8, 41, [1, 2, 3, 4]]\n",
      "dict_items([('hydrogen', 1), ('helium', 2), ('carbon', 6), (0, 100), ('oxygen', 8), ('batch', 41), ('el', [1, 2, 3, 4])])\n",
      "[('hydrogen', 1), ('helium', 2), ('carbon', 6), (0, 100), ('oxygen', 8), ('batch', 41), ('el', [1, 2, 3, 4])]\n",
      "key: el value: [1, 2, 3, 4]\n"
     ]
    }
   ],
   "source": [
    "print(elements.keys()) # return list of dict's keys\n",
    "print(list(elements.keys()))\n",
    "\n",
    "print(elements.values())\n",
    "print(list(elements.values()))\n",
    "\n",
    "print(elements.items())\n",
    "print(list(elements.items()))\n",
    "key, value = list(elements.items())[-1]\n",
    "print(\"key:\", key, \"value:\", value)"
   ]
  },
  {
   "cell_type": "code",
   "execution_count": null,
   "metadata": {},
   "outputs": [],
   "source": []
  }
 ],
 "metadata": {
  "kernelspec": {
   "display_name": "Python 3",
   "language": "python",
   "name": "python3"
  },
  "language_info": {
   "codemirror_mode": {
    "name": "ipython",
    "version": 3
   },
   "file_extension": ".py",
   "mimetype": "text/x-python",
   "name": "python",
   "nbconvert_exporter": "python",
   "pygments_lexer": "ipython3",
   "version": "3.7.7"
  }
 },
 "nbformat": 4,
 "nbformat_minor": 4
}
