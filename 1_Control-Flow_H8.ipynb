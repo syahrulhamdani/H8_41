{
 "cells": [
  {
   "cell_type": "code",
   "execution_count": 14,
   "metadata": {
    "ExecuteTime": {
     "end_time": "2020-09-24T13:37:46.117841Z",
     "start_time": "2020-09-24T13:37:46.111153Z"
    }
   },
   "outputs": [
    {
     "name": "stdout",
     "output_type": "stream",
     "text": [
      "yes! x < 5\n",
      "Next!\n",
      "Next!\n",
      "yes! x > y\n",
      "Stop!\n",
      "Just stop!\n"
     ]
    }
   ],
   "source": [
    "x = 0\n",
    "y = 5\n",
    "\n",
    "if x < 5:\n",
    "    print(\"yes! x < 5\")\n",
    "print(\"Next!\")\n",
    "\n",
    "if y < x:\n",
    "    print(\"No! x < y\")\n",
    "print(\"Next!\")\n",
    "\n",
    "if True:\n",
    "    print(\"yes! x > y\")\n",
    "print(\"Stop!\")\n",
    "\n",
    "if False:\n",
    "    print(\"Skip this!\")\n",
    "print(\"Just stop!\")"
   ]
  },
  {
   "cell_type": "code",
   "execution_count": 19,
   "metadata": {
    "ExecuteTime": {
     "end_time": "2020-09-24T13:40:20.596084Z",
     "start_time": "2020-09-24T13:40:20.589899Z"
    }
   },
   "outputs": [
    {
     "data": {
      "text/plain": [
       "True"
      ]
     },
     "execution_count": 19,
     "metadata": {},
     "output_type": "execute_result"
    }
   ],
   "source": [
    "bool(10)"
   ]
  },
  {
   "cell_type": "code",
   "execution_count": 23,
   "metadata": {
    "ExecuteTime": {
     "end_time": "2020-09-24T13:42:21.368533Z",
     "start_time": "2020-09-24T13:42:21.363624Z"
    }
   },
   "outputs": [
    {
     "name": "stdout",
     "output_type": "stream",
     "text": [
      "y != 0\n",
      "y != 0\n"
     ]
    }
   ],
   "source": [
    "if x:\n",
    "    print(\"x != 0\")\n",
    "if False:\n",
    "    print(\"x != 0\")\n",
    "\n",
    "if y:\n",
    "    print(\"y != 0\")\n",
    "if True:\n",
    "    print(\"y != 0\")"
   ]
  },
  {
   "cell_type": "code",
   "execution_count": 21,
   "metadata": {
    "ExecuteTime": {
     "end_time": "2020-09-24T13:41:32.270373Z",
     "start_time": "2020-09-24T13:41:32.238934Z"
    }
   },
   "outputs": [
    {
     "data": {
      "text/plain": [
       "False"
      ]
     },
     "execution_count": 21,
     "metadata": {},
     "output_type": "execute_result"
    }
   ],
   "source": [
    "bool(0)"
   ]
  },
  {
   "cell_type": "code",
   "execution_count": 30,
   "metadata": {
    "ExecuteTime": {
     "end_time": "2020-09-24T13:48:29.846482Z",
     "start_time": "2020-09-24T13:48:29.835675Z"
    }
   },
   "outputs": [],
   "source": [
    "mylist = [\"foo\", \"bar\", \"baz\", \"qux\"]\n",
    "mylist = [\n",
    "    \"foo\",\n",
    "    \"bar\",\n",
    "    \"baz\",\n",
    "    \"qux\"\n",
    "]"
   ]
  },
  {
   "cell_type": "code",
   "execution_count": 31,
   "metadata": {
    "ExecuteTime": {
     "end_time": "2020-09-24T13:48:32.294428Z",
     "start_time": "2020-09-24T13:48:32.275376Z"
    },
    "scrolled": true
   },
   "outputs": [
    {
     "name": "stdout",
     "output_type": "stream",
     "text": [
      "True\n",
      "False\n",
      "run step-1\n",
      "run step-2\n",
      "done running all steps!\n",
      "continue to other steps outside if\n",
      "continue to other steps outisde if\n"
     ]
    }
   ],
   "source": [
    "print(\"foo\" in mylist)\n",
    "print(100 in mylist)\n",
    "\n",
    "if \"foo\" in mylist:\n",
    "    print(\"run step-1\")\n",
    "    print(\"run step-2\")\n",
    "    print(\"done running all steps!\")\n",
    "print(\"continue to other steps outside if\")\n",
    "\n",
    "if \"quz\" in mylist:\n",
    "    print(\"run step-10\")\n",
    "    print(\"run step-20\")\n",
    "    print(\"done running all steps!\")\n",
    "print(\"continue to other steps outisde if\")"
   ]
  },
  {
   "cell_type": "code",
   "execution_count": 39,
   "metadata": {
    "ExecuteTime": {
     "end_time": "2020-09-24T14:01:09.861071Z",
     "start_time": "2020-09-24T14:01:09.856368Z"
    }
   },
   "outputs": [
    {
     "name": "stdout",
     "output_type": "stream",
     "text": [
      "Let's buy the book\n",
      "Let's collect more money\n"
     ]
    }
   ],
   "source": [
    "book_price = 5000\n",
    "mag_price = 2000\n",
    "money = 5000\n",
    "\n",
    "if money >= book_price:\n",
    "    print(\"Let's buy the book\")\n",
    "elif money >= mag_price:\n",
    "    print(\"Just buy the magazine\")\n",
    "else:\n",
    "    print(\"Let's collect more money\")"
   ]
  },
  {
   "cell_type": "code",
   "execution_count": 42,
   "metadata": {
    "ExecuteTime": {
     "end_time": "2020-09-24T14:02:36.702201Z",
     "start_time": "2020-09-24T14:02:36.696568Z"
    }
   },
   "outputs": [
    {
     "name": "stdout",
     "output_type": "stream",
     "text": [
      "1\n",
      "2\n",
      "3\n",
      "1\n",
      "2\n",
      "3\n"
     ]
    }
   ],
   "source": [
    "if \"f\" in \"foo\":\n",
    "    print(1)\n",
    "print(2)\n",
    "print(3)\n",
    "\n",
    "if \"f\" in \"foo\": print(1); print(2); print(3)"
   ]
  },
  {
   "cell_type": "code",
   "execution_count": 45,
   "metadata": {
    "ExecuteTime": {
     "end_time": "2020-09-24T14:04:53.174019Z",
     "start_time": "2020-09-24T14:04:53.168142Z"
    }
   },
   "outputs": [
    {
     "name": "stdout",
     "output_type": "stream",
     "text": [
      "1\n",
      "baz\n",
      "1\n",
      "baz\n"
     ]
    }
   ],
   "source": [
    "x = 2\n",
    "if x == 1: print(x); print(\"bar\")\n",
    "elif x == 2: print(1); print(\"baz\")\n",
    "else: print(\"-\")\n",
    "\n",
    "if x == 1:\n",
    "    print(x)\n",
    "    print(\"bar\")\n",
    "elif x == 2:\n",
    "    print(1)\n",
    "    print(\"baz\")\n",
    "else:\n",
    "    print(\"-\")"
   ]
  },
  {
   "cell_type": "code",
   "execution_count": 49,
   "metadata": {
    "ExecuteTime": {
     "end_time": "2020-09-24T14:09:59.269452Z",
     "start_time": "2020-09-24T14:09:59.256188Z"
    }
   },
   "outputs": [
    {
     "name": "stdout",
     "output_type": "stream",
     "text": [
      "Let's go to the library\n"
     ]
    }
   ],
   "source": [
    "is_raining = True\n",
    "destination = \"beach\" if not is_raining else \"library\"\n",
    "\n",
    "print(\"Let's go to the\", destination)"
   ]
  },
  {
   "cell_type": "code",
   "execution_count": 54,
   "metadata": {
    "ExecuteTime": {
     "end_time": "2020-09-24T14:14:44.648074Z",
     "start_time": "2020-09-24T14:14:44.641739Z"
    }
   },
   "outputs": [],
   "source": [
    "pass"
   ]
  },
  {
   "cell_type": "code",
   "execution_count": 56,
   "metadata": {
    "ExecuteTime": {
     "end_time": "2020-09-24T14:15:48.998033Z",
     "start_time": "2020-09-24T14:15:48.990577Z"
    }
   },
   "outputs": [],
   "source": [
    "x = 2\n",
    "\n",
    "if x == 1:\n",
    "    pass\n",
    "elif x == 2:\n",
    "    pass\n",
    "else:\n",
    "    print(\"-\")"
   ]
  },
  {
   "cell_type": "code",
   "execution_count": 63,
   "metadata": {
    "ExecuteTime": {
     "end_time": "2020-09-24T14:24:36.423967Z",
     "start_time": "2020-09-24T14:24:36.415946Z"
    }
   },
   "outputs": [
    {
     "name": "stdout",
     "output_type": "stream",
     "text": [
      "10\n",
      "9\n",
      "8\n",
      "7\n",
      "6\n",
      "5\n",
      "4\n",
      "3\n",
      "2\n",
      "1\n",
      "looping's stopped\n",
      "1\n",
      "2\n",
      "3\n",
      "4\n",
      "5\n",
      "6\n",
      "7\n",
      "8\n",
      "9\n",
      "looping's stopped\n"
     ]
    }
   ],
   "source": [
    "n = 10\n",
    "\n",
    "while n > 0:\n",
    "    print(n)\n",
    "    n -= 1\n",
    "print(\"looping's stopped\")\n",
    "\n",
    "n = 1\n",
    "while n < 10:\n",
    "    print(n)\n",
    "    n += 1\n",
    "print(\"looping's stopped\")"
   ]
  },
  {
   "cell_type": "code",
   "execution_count": 69,
   "metadata": {
    "ExecuteTime": {
     "end_time": "2020-09-24T14:29:34.710277Z",
     "start_time": "2020-09-24T14:29:34.704519Z"
    }
   },
   "outputs": [
    {
     "name": "stdout",
     "output_type": "stream",
     "text": [
      "5\n",
      "4\n",
      "3\n",
      "looping's stopped\n",
      "5\n",
      "4\n",
      "3\n",
      "2\n",
      "1\n",
      "looping's stopped\n"
     ]
    }
   ],
   "source": [
    "x = 5\n",
    "while x > 0:\n",
    "    print(x)\n",
    "    if x == 3:\n",
    "        break\n",
    "    x -= 1\n",
    "print(\"looping's stopped\")\n",
    "\n",
    "x = 5\n",
    "while x > 0:\n",
    "    print(x)\n",
    "#     if x == 2:\n",
    "#         break\n",
    "    x -= 1\n",
    "print(\"looping's stopped\")"
   ]
  },
  {
   "cell_type": "code",
   "execution_count": 76,
   "metadata": {
    "ExecuteTime": {
     "end_time": "2020-09-24T14:41:08.088713Z",
     "start_time": "2020-09-24T14:41:08.083601Z"
    }
   },
   "outputs": [
    {
     "name": "stdout",
     "output_type": "stream",
     "text": [
      "running..\n",
      "4\n",
      "running..\n",
      "running..\n",
      "2\n",
      "running..\n",
      "1\n",
      "running..\n",
      "0\n"
     ]
    }
   ],
   "source": [
    "x = 5\n",
    "while x > 0:\n",
    "    print(\"running..\")\n",
    "    x -= 1\n",
    "    if x == 3:\n",
    "        continue\n",
    "        print(x)\n",
    "    print(x)"
   ]
  },
  {
   "cell_type": "code",
   "execution_count": 75,
   "metadata": {
    "ExecuteTime": {
     "end_time": "2020-09-24T14:38:49.886581Z",
     "start_time": "2020-09-24T14:38:49.881994Z"
    }
   },
   "outputs": [
    {
     "name": "stdout",
     "output_type": "stream",
     "text": [
      "5\n",
      "4\n",
      "3\n",
      "2\n",
      "1\n",
      "Done looping\n",
      "Looping's stopped\n",
      "looping's stopped\n"
     ]
    }
   ],
   "source": [
    "x = 5\n",
    "while x > 0:\n",
    "    print(x)\n",
    "    x -= 1\n",
    "else:\n",
    "    print(\"Done looping\")\n",
    "print(\"Looping's stopped\")\n",
    "\n",
    "while n > 0:\n",
    "    n -= 1\n",
    "    print(n)\n",
    "else:\n",
    "    print(\"looping's stopped\")"
   ]
  }
 ],
 "metadata": {
  "kernelspec": {
   "display_name": "Python 3",
   "language": "python",
   "name": "python3"
  },
  "language_info": {
   "codemirror_mode": {
    "name": "ipython",
    "version": 3
   },
   "file_extension": ".py",
   "mimetype": "text/x-python",
   "name": "python",
   "nbconvert_exporter": "python",
   "pygments_lexer": "ipython3",
   "version": "3.7.7"
  }
 },
 "nbformat": 4,
 "nbformat_minor": 4
}
