{
 "cells": [
  {
   "cell_type": "code",
   "execution_count": 1,
   "metadata": {},
   "outputs": [],
   "source": [
    "def say_hello(student):\n",
    "    \"say hello to the given student name.\"\n",
    "    print(f\"Hello, {student}!\")\n",
    "    print(\"goodbye...\")\n",
    "\n",
    "\n",
    "def greet(students, greeting=\"hello\"):\n",
    "#     print(\"{greeting}, {student}!\")\n",
    "    print(\"{}, {}!\".format(greeting, students))\n",
    "\n",
    "\n",
    "def greet_all(greeting=\"hello\", *students):\n",
    "    print(greeting, students)\n",
    "    for student in students:\n",
    "        print(f\"{greeting}, {student}!!\")\n",
    "\n",
    "\n",
    "def print_simple_linear(x, a=.5, b=0):\n",
    "    linear = a*x + b\n",
    "    print(linear)\n",
    "\n",
    "\n",
    "def return_simple_linear(x, a=.5, b=0):\n",
    "    return a*x + b"
   ]
  },
  {
   "cell_type": "code",
   "execution_count": 2,
   "metadata": {},
   "outputs": [],
   "source": [
    "students = [\"mirza\", \"sony\", \"rio\", \"iqbal\", \"arief\", \"rina\", \"joey\", \"rizka\"]"
   ]
  },
  {
   "cell_type": "code",
   "execution_count": 3,
   "metadata": {},
   "outputs": [
    {
     "name": "stdout",
     "output_type": "stream",
     "text": [
      "Hello, mirza!\n",
      "goodbye...\n",
      "Hello, sony!\n",
      "goodbye...\n",
      "Hello, rio!\n",
      "goodbye...\n",
      "Hello, iqbal!\n",
      "goodbye...\n",
      "Hello, arief!\n",
      "goodbye...\n",
      "Hello, rina!\n",
      "goodbye...\n",
      "Hello, joey!\n",
      "goodbye...\n",
      "Hello, rizka!\n",
      "goodbye...\n"
     ]
    }
   ],
   "source": [
    "for student in students:\n",
    "    say_hello(student)"
   ]
  },
  {
   "cell_type": "code",
   "execution_count": 4,
   "metadata": {},
   "outputs": [
    {
     "name": "stdout",
     "output_type": "stream",
     "text": [
      "hello, Hi!\n"
     ]
    }
   ],
   "source": [
    "greet(\"Hi\")"
   ]
  },
  {
   "cell_type": "code",
   "execution_count": 6,
   "metadata": {},
   "outputs": [
    {
     "name": "stdout",
     "output_type": "stream",
     "text": [
      "hi, hacktiv8!\n"
     ]
    }
   ],
   "source": [
    "greet(greeting=\"hi\", students='hacktiv8')"
   ]
  },
  {
   "cell_type": "code",
   "execution_count": 7,
   "metadata": {},
   "outputs": [
    {
     "name": "stdout",
     "output_type": "stream",
     "text": [
      "hi, hacktiv8!\n",
      "hi, hacktiv8!\n"
     ]
    }
   ],
   "source": [
    "greet(students=\"hacktiv8\", greeting=\"hi\")\n",
    "greet(\"hacktiv8\", \"hi\")"
   ]
  },
  {
   "cell_type": "code",
   "execution_count": 8,
   "metadata": {},
   "outputs": [
    {
     "name": "stdout",
     "output_type": "stream",
     "text": [
      "hello, hacktiv8!\n",
      "halo, hacktiv8!\n"
     ]
    }
   ],
   "source": [
    "greet(\"hacktiv8\")\n",
    "greet(\"hacktiv8\", \"halo\")"
   ]
  },
  {
   "cell_type": "code",
   "execution_count": 9,
   "metadata": {},
   "outputs": [
    {
     "name": "stdout",
     "output_type": "stream",
     "text": [
      "hacktiv8 ('jakarta', 'indonesia', 'world')\n",
      "hacktiv8, jakarta!!\n",
      "hacktiv8, indonesia!!\n",
      "hacktiv8, world!!\n"
     ]
    }
   ],
   "source": [
    "greet_all(\"hacktiv8\", \"jakarta\", \"indonesia\", \"world\")"
   ]
  },
  {
   "cell_type": "code",
   "execution_count": 12,
   "metadata": {},
   "outputs": [
    {
     "name": "stdout",
     "output_type": "stream",
     "text": [
      "mirza ('sony', 'rio', 'iqbal', 'arief', 'rina', 'joey', 'rizka')\n",
      "mirza, sony!!\n",
      "mirza, rio!!\n",
      "mirza, iqbal!!\n",
      "mirza, arief!!\n",
      "mirza, rina!!\n",
      "mirza, joey!!\n",
      "mirza, rizka!!\n",
      "halo ('mirza', 'sony', 'rio', 'iqbal', 'arief', 'rina', 'joey', 'rizka')\n",
      "halo, mirza!!\n",
      "halo, sony!!\n",
      "halo, rio!!\n",
      "halo, iqbal!!\n",
      "halo, arief!!\n",
      "halo, rina!!\n",
      "halo, joey!!\n",
      "halo, rizka!!\n"
     ]
    }
   ],
   "source": [
    "greet_all(*students)\n",
    "greet_all('halo', *students)"
   ]
  },
  {
   "cell_type": "code",
   "execution_count": 13,
   "metadata": {},
   "outputs": [
    {
     "name": "stdout",
     "output_type": "stream",
     "text": [
      "1 [2, 3, 4]\n"
     ]
    }
   ],
   "source": [
    "a, *b = [1, 2, 3, 4]\n",
    "print(a, b)"
   ]
  },
  {
   "cell_type": "code",
   "execution_count": 14,
   "metadata": {},
   "outputs": [
    {
     "data": {
      "text/plain": [
       "210"
      ]
     },
     "execution_count": 14,
     "metadata": {},
     "output_type": "execute_result"
    }
   ],
   "source": [
    "compute = lambda a, b, x: a*x + b\n",
    "compute(b=10, a=2, x=100)"
   ]
  },
  {
   "cell_type": "code",
   "execution_count": 15,
   "metadata": {},
   "outputs": [
    {
     "name": "stdout",
     "output_type": "stream",
     "text": [
      "hacktiv8 ('jakarta', 'indonesia', 'world')\n",
      "hacktiv8, jakarta!!\n",
      "hacktiv8, indonesia!!\n",
      "hacktiv8, world!!\n"
     ]
    }
   ],
   "source": [
    "greets = greet_all(\"hacktiv8\", \"jakarta\", \"indonesia\", \"world\")"
   ]
  },
  {
   "cell_type": "code",
   "execution_count": 16,
   "metadata": {},
   "outputs": [
    {
     "name": "stdout",
     "output_type": "stream",
     "text": [
      "5.0\n",
      "None\n"
     ]
    }
   ],
   "source": [
    "result = print_simple_linear(10)\n",
    "print(result)"
   ]
  },
  {
   "cell_type": "code",
   "execution_count": 17,
   "metadata": {},
   "outputs": [
    {
     "name": "stdout",
     "output_type": "stream",
     "text": [
      "50.0\n"
     ]
    },
    {
     "ename": "TypeError",
     "evalue": "unsupported operand type(s) for ** or pow(): 'NoneType' and 'int'",
     "output_type": "error",
     "traceback": [
      "\u001b[0;31m---------------------------------------------------------------------------\u001b[0m",
      "\u001b[0;31mTypeError\u001b[0m                                 Traceback (most recent call last)",
      "\u001b[0;32m<ipython-input-17-66ee8e30af6b>\u001b[0m in \u001b[0;36m<module>\u001b[0;34m\u001b[0m\n\u001b[1;32m      1\u001b[0m \u001b[0mresult\u001b[0m \u001b[0;34m=\u001b[0m \u001b[0mprint_simple_linear\u001b[0m\u001b[0;34m(\u001b[0m\u001b[0mx\u001b[0m\u001b[0;34m=\u001b[0m\u001b[0;36m100\u001b[0m\u001b[0;34m)\u001b[0m\u001b[0;34m\u001b[0m\u001b[0;34m\u001b[0m\u001b[0m\n\u001b[0;32m----> 2\u001b[0;31m \u001b[0mresult2\u001b[0m \u001b[0;34m=\u001b[0m \u001b[0mresult\u001b[0m\u001b[0;34m**\u001b[0m\u001b[0;36m2\u001b[0m\u001b[0;34m\u001b[0m\u001b[0;34m\u001b[0m\u001b[0m\n\u001b[0m",
      "\u001b[0;31mTypeError\u001b[0m: unsupported operand type(s) for ** or pow(): 'NoneType' and 'int'"
     ]
    }
   ],
   "source": [
    "result = print_simple_linear(x=100)\n",
    "result2 = result**2"
   ]
  },
  {
   "cell_type": "code",
   "execution_count": 18,
   "metadata": {},
   "outputs": [
    {
     "name": "stdout",
     "output_type": "stream",
     "text": [
      "5.0\n"
     ]
    }
   ],
   "source": [
    "result = return_simple_linear(10)\n",
    "print(result)"
   ]
  },
  {
   "cell_type": "code",
   "execution_count": 19,
   "metadata": {},
   "outputs": [],
   "source": [
    "def compute_all(x, a=0.5, b=0):\n",
    "    linear = a*x + b\n",
    "    linear2 = linear + result\n",
    "    return linear2"
   ]
  },
  {
   "cell_type": "code",
   "execution_count": 21,
   "metadata": {},
   "outputs": [
    {
     "name": "stdout",
     "output_type": "stream",
     "text": [
      "100\n",
      "100 0.5\n",
      "125.0\n"
     ]
    }
   ],
   "source": [
    "result = 100\n",
    "\n",
    "print(result)\n",
    "result2 = compute(50, 0.5, 0)\n",
    "print(result, result2)\n",
    "\n",
    "result = compute_all(50)\n",
    "print(result)"
   ]
  },
  {
   "cell_type": "code",
   "execution_count": 22,
   "metadata": {},
   "outputs": [],
   "source": [
    "import model"
   ]
  },
  {
   "cell_type": "code",
   "execution_count": 23,
   "metadata": {},
   "outputs": [
    {
     "data": {
      "text/plain": [
       "['__builtins__',\n",
       " '__cached__',\n",
       " '__doc__',\n",
       " '__file__',\n",
       " '__loader__',\n",
       " '__name__',\n",
       " '__package__',\n",
       " '__spec__',\n",
       " 'compute',\n",
       " 'students']"
      ]
     },
     "execution_count": 23,
     "metadata": {},
     "output_type": "execute_result"
    }
   ],
   "source": [
    "dir(model)"
   ]
  },
  {
   "cell_type": "code",
   "execution_count": 25,
   "metadata": {},
   "outputs": [
    {
     "name": "stdout",
     "output_type": "stream",
     "text": [
      "['mirza', 'sony', 'rio', 'iqbal', 'arief', 'rina', 'joey', 'rizka']\n"
     ]
    }
   ],
   "source": [
    "h8_students = model.students\n",
    "# rio_students = model.rio_students\n",
    "print(h8_students)\n",
    "# print(rio_students)"
   ]
  },
  {
   "cell_type": "code",
   "execution_count": 26,
   "metadata": {},
   "outputs": [],
   "source": [
    "import sys"
   ]
  },
  {
   "cell_type": "code",
   "execution_count": 27,
   "metadata": {},
   "outputs": [
    {
     "data": {
      "text/plain": [
       "25.0"
      ]
     },
     "execution_count": 27,
     "metadata": {},
     "output_type": "execute_result"
    }
   ],
   "source": [
    "model.compute(10)"
   ]
  },
  {
   "cell_type": "code",
   "execution_count": 29,
   "metadata": {},
   "outputs": [],
   "source": [
    "import datetime, math, os"
   ]
  },
  {
   "cell_type": "code",
   "execution_count": 30,
   "metadata": {},
   "outputs": [
    {
     "data": {
      "text/plain": [
       "<module 'os' from '/Users/syahrulhamdani/.pyenv/versions/3.7.7/Python.framework/Versions/3.7/lib/python3.7/os.py'>"
      ]
     },
     "execution_count": 30,
     "metadata": {},
     "output_type": "execute_result"
    }
   ],
   "source": [
    "os"
   ]
  },
  {
   "cell_type": "code",
   "execution_count": 31,
   "metadata": {},
   "outputs": [
    {
     "data": {
      "text/plain": [
       "<module 'datetime' from '/Users/syahrulhamdani/.pyenv/versions/3.7.7/Python.framework/Versions/3.7/lib/python3.7/datetime.py'>"
      ]
     },
     "execution_count": 31,
     "metadata": {},
     "output_type": "execute_result"
    }
   ],
   "source": [
    "datetime"
   ]
  },
  {
   "cell_type": "code",
   "execution_count": 32,
   "metadata": {},
   "outputs": [
    {
     "data": {
      "text/plain": [
       "<module 'math' from '/Users/syahrulhamdani/.pyenv/versions/3.7.7/Python.framework/Versions/3.7/lib/python3.7/lib-dynload/math.cpython-37m-darwin.so'>"
      ]
     },
     "execution_count": 32,
     "metadata": {},
     "output_type": "execute_result"
    }
   ],
   "source": [
    "math"
   ]
  },
  {
   "cell_type": "code",
   "execution_count": 33,
   "metadata": {
    "ExecuteTime": {
     "end_time": "2020-09-29T14:57:06.349702Z",
     "start_time": "2020-09-29T14:57:06.339743Z"
    }
   },
   "outputs": [],
   "source": [
    "from model import compute as c, students as s"
   ]
  },
  {
   "cell_type": "code",
   "execution_count": 34,
   "metadata": {
    "ExecuteTime": {
     "end_time": "2020-09-29T14:57:12.330731Z",
     "start_time": "2020-09-29T14:57:12.317749Z"
    }
   },
   "outputs": [
    {
     "data": {
      "text/plain": [
       "25.0"
      ]
     },
     "execution_count": 34,
     "metadata": {},
     "output_type": "execute_result"
    }
   ],
   "source": [
    "c(10)"
   ]
  },
  {
   "cell_type": "code",
   "execution_count": 35,
   "metadata": {
    "ExecuteTime": {
     "end_time": "2020-09-29T14:57:18.561197Z",
     "start_time": "2020-09-29T14:57:18.554975Z"
    }
   },
   "outputs": [
    {
     "data": {
      "text/plain": [
       "['mirza', 'sony', 'rio', 'iqbal', 'arief', 'rina', 'joey', 'rizka']"
      ]
     },
     "execution_count": 35,
     "metadata": {},
     "output_type": "execute_result"
    }
   ],
   "source": [
    "s"
   ]
  },
  {
   "cell_type": "code",
   "execution_count": 36,
   "metadata": {},
   "outputs": [],
   "source": [
    "import numpy as np\n",
    "import pandas as pd"
   ]
  }
 ],
 "metadata": {
  "kernelspec": {
   "display_name": "Python 3",
   "language": "python",
   "name": "python3"
  },
  "language_info": {
   "codemirror_mode": {
    "name": "ipython",
    "version": 3
   },
   "file_extension": ".py",
   "mimetype": "text/x-python",
   "name": "python",
   "nbconvert_exporter": "python",
   "pygments_lexer": "ipython3",
   "version": "3.7.7"
  }
 },
 "nbformat": 4,
 "nbformat_minor": 4
}
