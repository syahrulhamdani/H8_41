{
 "cells": [
  {
   "cell_type": "markdown",
   "metadata": {},
   "source": [
    "# Descriptive Statistics"
   ]
  },
  {
   "cell_type": "code",
   "execution_count": 38,
   "metadata": {
    "ExecuteTime": {
     "end_time": "2020-10-22T12:10:03.162800Z",
     "start_time": "2020-10-22T12:10:03.146578Z"
    }
   },
   "outputs": [],
   "source": [
    "import math\n",
    "import statistics\n",
    "\n",
    "import numpy as np\n",
    "import scipy\n",
    "import scipy.stats\n",
    "import pandas as pd"
   ]
  },
  {
   "cell_type": "code",
   "execution_count": 39,
   "metadata": {
    "ExecuteTime": {
     "end_time": "2020-10-22T12:10:03.187838Z",
     "start_time": "2020-10-22T12:10:03.176026Z"
    }
   },
   "outputs": [
    {
     "name": "stdout",
     "output_type": "stream",
     "text": [
      "numpy version: 1.19.1\n",
      "scipy version: 1.5.2\n",
      "pandas version: 1.1.3\n"
     ]
    }
   ],
   "source": [
    "print(\"numpy version:\", np.__version__)\n",
    "print(\"scipy version:\", scipy.__version__)\n",
    "print(\"pandas version:\", pd.__version__)"
   ]
  },
  {
   "cell_type": "code",
   "execution_count": 40,
   "metadata": {
    "ExecuteTime": {
     "end_time": "2020-10-22T12:10:03.210733Z",
     "start_time": "2020-10-22T12:10:03.202572Z"
    }
   },
   "outputs": [
    {
     "name": "stdout",
     "output_type": "stream",
     "text": [
      "[8.0, 1, 2.5, 4, 28.0] 5\n",
      "[8.0, 1, 2.5, nan, 4, 28.0] 6\n"
     ]
    }
   ],
   "source": [
    "x = [8., 1, 2.5, 4, 28.]\n",
    "x_with_nan = [8., 1, 2.5, math.nan, 4, 28.]\n",
    "print(x, len(x))\n",
    "print(x_with_nan, len(x_with_nan))"
   ]
  },
  {
   "cell_type": "code",
   "execution_count": 41,
   "metadata": {
    "ExecuteTime": {
     "end_time": "2020-10-22T12:10:03.244790Z",
     "start_time": "2020-10-22T12:10:03.216177Z"
    }
   },
   "outputs": [
    {
     "name": "stdout",
     "output_type": "stream",
     "text": [
      "[ 8.   1.   2.5  4.  28. ]\n",
      "[ 8.   1.   2.5  nan  4.  28. ]\n",
      "0     8.0\n",
      "1     1.0\n",
      "2     2.5\n",
      "3     4.0\n",
      "4    28.0\n",
      "dtype: float64\n",
      "0     8.0\n",
      "1     1.0\n",
      "2     2.5\n",
      "3     NaN\n",
      "4     4.0\n",
      "5    28.0\n",
      "dtype: float64\n"
     ]
    }
   ],
   "source": [
    "y, y_with_nan = np.array(x), np.array(x_with_nan)\n",
    "z, z_with_nan = pd.Series(x), pd.Series(x_with_nan)\n",
    "print(y)\n",
    "print(y_with_nan)\n",
    "print(z)\n",
    "print(z_with_nan)"
   ]
  },
  {
   "cell_type": "markdown",
   "metadata": {},
   "source": [
    "## Measures of Central Tendency"
   ]
  },
  {
   "cell_type": "markdown",
   "metadata": {},
   "source": [
    "### Mean"
   ]
  },
  {
   "cell_type": "code",
   "execution_count": 42,
   "metadata": {
    "ExecuteTime": {
     "end_time": "2020-10-22T12:10:03.257371Z",
     "start_time": "2020-10-22T12:10:03.248608Z"
    }
   },
   "outputs": [
    {
     "name": "stdout",
     "output_type": "stream",
     "text": [
      "x: [8.0, 1, 2.5, 4, 28.0]\n",
      "mean native: 8.7\n",
      "mean statistics: 8.7\n"
     ]
    }
   ],
   "source": [
    "print(\"x:\", x)\n",
    "mean_native = sum(x) / len(x)\n",
    "print(\"mean native:\", mean_native)\n",
    "mean_stats = statistics.mean(x)\n",
    "print(\"mean statistics:\", mean_stats)"
   ]
  },
  {
   "cell_type": "code",
   "execution_count": 43,
   "metadata": {
    "ExecuteTime": {
     "end_time": "2020-10-22T12:10:03.278479Z",
     "start_time": "2020-10-22T12:10:03.265251Z"
    }
   },
   "outputs": [
    {
     "name": "stdout",
     "output_type": "stream",
     "text": [
      "x with nan: [8.0, 1, 2.5, nan, 4, 28.0]\n",
      "mean with nan native: nan\n",
      "mean with nan statistics: nan\n",
      "mean with nan numpy: nan\n"
     ]
    }
   ],
   "source": [
    "print(\"x with nan:\", x_with_nan)\n",
    "mean_with_nan_native = sum(x_with_nan) / len(x_with_nan)\n",
    "print(\"mean with nan native:\", mean_with_nan_native)\n",
    "mean_with_nan_stats = statistics.mean(x_with_nan)\n",
    "print(\"mean with nan statistics:\", mean_with_nan_stats)\n",
    "mean_with_nan_np = y_with_nan.mean()\n",
    "print(\"mean with nan numpy:\", mean_with_nan_np)"
   ]
  },
  {
   "cell_type": "code",
   "execution_count": 44,
   "metadata": {
    "ExecuteTime": {
     "end_time": "2020-10-22T12:10:03.286449Z",
     "start_time": "2020-10-22T12:10:03.281829Z"
    }
   },
   "outputs": [
    {
     "name": "stdout",
     "output_type": "stream",
     "text": [
      "mean ignoring nan np: 8.7\n"
     ]
    }
   ],
   "source": [
    "mean_ignoring_nan_np = np.nanmean(x_with_nan)\n",
    "print(\"mean ignoring nan np:\", mean_ignoring_nan_np)"
   ]
  },
  {
   "cell_type": "code",
   "execution_count": 45,
   "metadata": {
    "ExecuteTime": {
     "end_time": "2020-10-22T12:10:03.311848Z",
     "start_time": "2020-10-22T12:10:03.291348Z"
    }
   },
   "outputs": [
    {
     "data": {
      "text/plain": [
       "(8.7, nan)"
      ]
     },
     "execution_count": 45,
     "metadata": {},
     "output_type": "execute_result"
    }
   ],
   "source": [
    "z_with_nan.mean(), z_with_nan.mean(skipna=False)"
   ]
  },
  {
   "cell_type": "code",
   "execution_count": 46,
   "metadata": {
    "ExecuteTime": {
     "end_time": "2020-10-22T12:10:03.330103Z",
     "start_time": "2020-10-22T12:10:03.320392Z"
    }
   },
   "outputs": [
    {
     "name": "stdout",
     "output_type": "stream",
     "text": [
      "[2, 2, 4, 4, 4, 4, 4, 8, 8, 8] 10\n",
      "mean: 4.8\n",
      "weighted mean: 4.8\n"
     ]
    }
   ],
   "source": [
    "arr = [2, 2, 4, 4, 4, 4, 4, 8, 8, 8]\n",
    "print(arr, len(arr))\n",
    "print(\"mean:\", np.mean(arr))\n",
    "print(\"weighted mean:\", 0.2*2 + 0.5*4 + 0.3*8)"
   ]
  },
  {
   "cell_type": "code",
   "execution_count": 47,
   "metadata": {
    "ExecuteTime": {
     "end_time": "2020-10-22T12:10:03.342633Z",
     "start_time": "2020-10-22T12:10:03.336947Z"
    }
   },
   "outputs": [
    {
     "name": "stdout",
     "output_type": "stream",
     "text": [
      "sum of the weight: 0.8500000000000001\n",
      "weighted mean: 3.2352941176470584\n"
     ]
    }
   ],
   "source": [
    "arr_x = [8., 1, 2.5, 4]\n",
    "arr_w = [.1, .2, .3, .25]\n",
    "print(\"sum of the weight:\", sum(arr_w))\n",
    "\n",
    "print(\n",
    "    \"weighted mean:\",\n",
    "    sum(w*x for x, w in zip(arr_x, arr_w)) / sum(arr_w)\n",
    ")"
   ]
  },
  {
   "cell_type": "code",
   "execution_count": 48,
   "metadata": {
    "ExecuteTime": {
     "end_time": "2020-10-22T12:10:03.355029Z",
     "start_time": "2020-10-22T12:10:03.346685Z"
    }
   },
   "outputs": [
    {
     "data": {
      "text/plain": [
       "3.2352941176470584"
      ]
     },
     "execution_count": 48,
     "metadata": {},
     "output_type": "execute_result"
    }
   ],
   "source": [
    "np_x, np_w = np.array(arr_x), np.array(arr_w)\n",
    "np.average(np_x, weights=np_w)"
   ]
  },
  {
   "cell_type": "markdown",
   "metadata": {},
   "source": [
    "### Harmonic Mean"
   ]
  },
  {
   "cell_type": "code",
   "execution_count": 49,
   "metadata": {
    "ExecuteTime": {
     "end_time": "2020-10-22T12:10:03.364240Z",
     "start_time": "2020-10-22T12:10:03.360384Z"
    }
   },
   "outputs": [],
   "source": [
    "x += [100]"
   ]
  },
  {
   "cell_type": "code",
   "execution_count": 50,
   "metadata": {
    "ExecuteTime": {
     "end_time": "2020-10-22T12:10:03.373961Z",
     "start_time": "2020-10-22T12:10:03.367651Z"
    }
   },
   "outputs": [
    {
     "name": "stdout",
     "output_type": "stream",
     "text": [
      "[8.0, 1, 2.5, 4, 28.0, 100]\n",
      "arithmetic mean: 23.916666666666668\n",
      "harmonic mean: 3.2954099646920363\n"
     ]
    }
   ],
   "source": [
    "print(x)\n",
    "print(\"arithmetic mean:\", sum(x) / len(x))\n",
    "print(\"harmonic mean:\", len(x) / sum(1/i for i in x))"
   ]
  },
  {
   "cell_type": "code",
   "execution_count": 51,
   "metadata": {
    "ExecuteTime": {
     "end_time": "2020-10-22T12:10:03.389887Z",
     "start_time": "2020-10-22T12:10:03.378296Z"
    }
   },
   "outputs": [
    {
     "data": {
      "text/plain": [
       "3.2954099646920363"
      ]
     },
     "execution_count": 51,
     "metadata": {},
     "output_type": "execute_result"
    }
   ],
   "source": [
    "scipy.stats.hmean(x)"
   ]
  },
  {
   "cell_type": "code",
   "execution_count": 52,
   "metadata": {
    "ExecuteTime": {
     "end_time": "2020-10-22T12:10:03.409682Z",
     "start_time": "2020-10-22T12:10:03.396479Z"
    }
   },
   "outputs": [
    {
     "name": "stdout",
     "output_type": "stream",
     "text": [
      "7.793059696775923\n",
      "7.7930596967759245\n"
     ]
    }
   ],
   "source": [
    "gmean = 1\n",
    "\n",
    "for item in x:\n",
    "    gmean *= item\n",
    "\n",
    "gmean = gmean**(1/len(x))    # power\n",
    "print(gmean)\n",
    "print(scipy.stats.gmean(x))"
   ]
  },
  {
   "cell_type": "markdown",
   "metadata": {},
   "source": [
    "## Median"
   ]
  },
  {
   "cell_type": "code",
   "execution_count": 53,
   "metadata": {
    "ExecuteTime": {
     "end_time": "2020-10-22T12:10:03.419133Z",
     "start_time": "2020-10-22T12:10:03.414331Z"
    }
   },
   "outputs": [],
   "source": [
    "x += [1000]"
   ]
  },
  {
   "cell_type": "code",
   "execution_count": 54,
   "metadata": {
    "ExecuteTime": {
     "end_time": "2020-10-22T12:10:03.453680Z",
     "start_time": "2020-10-22T12:10:03.429806Z"
    }
   },
   "outputs": [
    {
     "name": "stdout",
     "output_type": "stream",
     "text": [
      "[8.0, 1, 2.5, 4, 28.0, 100, 1000] 7 [1, 2.5, 4, 8.0, 28.0, 100, 1000]\n",
      "median np: 8.0\n",
      "median native: 8.0\n"
     ]
    }
   ],
   "source": [
    "print(x, len(x), sorted(x))\n",
    "print(\"median np:\", np.median(x))\n",
    "\n",
    "if len(x) % 2:\n",
    "    med = sorted(x)[round(0.5 * (len(x)-1))]\n",
    "else:\n",
    "    ordered_x, index = sorted(x), round(0.5 * len(x))\n",
    "    med = 0.5 * (ordered_x[index-1] + ordered_x[index])\n",
    "print(\"median native:\", med)"
   ]
  },
  {
   "cell_type": "code",
   "execution_count": 55,
   "metadata": {
    "ExecuteTime": {
     "end_time": "2020-10-22T12:10:03.475948Z",
     "start_time": "2020-10-22T12:10:03.466737Z"
    }
   },
   "outputs": [
    {
     "data": {
      "text/plain": [
       "(8.0, 8.0, 8.0)"
      ]
     },
     "execution_count": 55,
     "metadata": {},
     "output_type": "execute_result"
    }
   ],
   "source": [
    "statistics.median(x), statistics.median_high(x), statistics.median_low(x)"
   ]
  },
  {
   "cell_type": "code",
   "execution_count": 56,
   "metadata": {
    "ExecuteTime": {
     "end_time": "2020-10-22T12:10:03.491723Z",
     "start_time": "2020-10-22T12:10:03.482899Z"
    }
   },
   "outputs": [
    {
     "data": {
      "text/plain": [
       "([1, 2.5, 4, 8.0, nan, 28.0], 6.0, 4, 8.0)"
      ]
     },
     "execution_count": 56,
     "metadata": {},
     "output_type": "execute_result"
    }
   ],
   "source": [
    "sorted(x_with_nan), statistics.median(x_with_nan), statistics.median_low(x_with_nan), statistics.median_high(x_with_nan)"
   ]
  },
  {
   "cell_type": "code",
   "execution_count": 57,
   "metadata": {
    "ExecuteTime": {
     "end_time": "2020-10-22T12:10:03.507568Z",
     "start_time": "2020-10-22T12:10:03.497398Z"
    }
   },
   "outputs": [
    {
     "data": {
      "text/plain": [
       "(nan, 2.5, nan, nan)"
      ]
     },
     "execution_count": 57,
     "metadata": {},
     "output_type": "execute_result"
    }
   ],
   "source": [
    "list2 = [1, 2.5, math.nan, 4]\n",
    "statistics.median(list2), statistics.median_low(list2), statistics.median_high(list2), np.median(list2)"
   ]
  },
  {
   "cell_type": "code",
   "execution_count": 58,
   "metadata": {
    "ExecuteTime": {
     "end_time": "2020-10-22T12:10:03.520053Z",
     "start_time": "2020-10-22T12:10:03.511464Z"
    }
   },
   "outputs": [
    {
     "name": "stdout",
     "output_type": "stream",
     "text": [
      "0     8.0\n",
      "1     1.0\n",
      "2     2.5\n",
      "3     4.0\n",
      "4    28.0\n",
      "dtype: float64\n",
      "4.0\n",
      "1     1.0\n",
      "2     2.5\n",
      "4     4.0\n",
      "0     8.0\n",
      "5    28.0\n",
      "3     NaN\n",
      "dtype: float64\n",
      "8.7\n"
     ]
    }
   ],
   "source": [
    "print(z)\n",
    "print(z.median())\n",
    "print(z_with_nan.sort_values())\n",
    "print(z_with_nan.mean())"
   ]
  },
  {
   "cell_type": "markdown",
   "metadata": {},
   "source": [
    "## Mode"
   ]
  },
  {
   "cell_type": "code",
   "execution_count": 59,
   "metadata": {
    "ExecuteTime": {
     "end_time": "2020-10-22T12:10:03.528609Z",
     "start_time": "2020-10-22T12:10:03.524981Z"
    }
   },
   "outputs": [],
   "source": [
    "x += [1000]"
   ]
  },
  {
   "cell_type": "code",
   "execution_count": 60,
   "metadata": {
    "ExecuteTime": {
     "end_time": "2020-10-22T12:10:03.540113Z",
     "start_time": "2020-10-22T12:10:03.533784Z"
    }
   },
   "outputs": [
    {
     "name": "stdout",
     "output_type": "stream",
     "text": [
      "[8.0, 1, 2.5, 4, 28.0, 100, 1000, 1000]\n",
      "[1, 1, 1, 1, 1, 1, 2, 2]\n"
     ]
    }
   ],
   "source": [
    "print(x)\n",
    "print([x.count(i) for i in x])"
   ]
  },
  {
   "cell_type": "code",
   "execution_count": 61,
   "metadata": {
    "ExecuteTime": {
     "end_time": "2020-10-22T12:10:03.557742Z",
     "start_time": "2020-10-22T12:10:03.546413Z"
    }
   },
   "outputs": [
    {
     "data": {
      "text/plain": [
       "ModeResult(mode=array([1000.]), count=array([2]))"
      ]
     },
     "execution_count": 61,
     "metadata": {},
     "output_type": "execute_result"
    }
   ],
   "source": [
    "scipy.stats.mode(x)"
   ]
  },
  {
   "cell_type": "code",
   "execution_count": 62,
   "metadata": {
    "ExecuteTime": {
     "end_time": "2020-10-22T12:10:03.578000Z",
     "start_time": "2020-10-22T12:10:03.565943Z"
    }
   },
   "outputs": [
    {
     "name": "stdout",
     "output_type": "stream",
     "text": [
      "ModeResult(mode=array([1000.]), count=array([2]))\n",
      "[1000.] [2]\n"
     ]
    }
   ],
   "source": [
    "mode_ = scipy.stats.mode(x)\n",
    "print(mode_)\n",
    "print(mode_.mode, mode_.count)"
   ]
  },
  {
   "cell_type": "code",
   "execution_count": 63,
   "metadata": {
    "ExecuteTime": {
     "end_time": "2020-10-22T12:10:03.602049Z",
     "start_time": "2020-10-22T12:10:03.586258Z"
    }
   },
   "outputs": [
    {
     "data": {
      "text/plain": [
       "0    1000.0\n",
       "dtype: float64"
      ]
     },
     "execution_count": 63,
     "metadata": {},
     "output_type": "execute_result"
    }
   ],
   "source": [
    "series_x = pd.Series(x)\n",
    "series_x.mode()"
   ]
  },
  {
   "cell_type": "code",
   "execution_count": 64,
   "metadata": {
    "ExecuteTime": {
     "end_time": "2020-10-22T12:10:03.643352Z",
     "start_time": "2020-10-22T12:10:03.630566Z"
    }
   },
   "outputs": [
    {
     "data": {
      "text/plain": [
       "[8.0, 1, 2.5, 4, 28.0, 100, 1000, 1000]"
      ]
     },
     "execution_count": 64,
     "metadata": {},
     "output_type": "execute_result"
    }
   ],
   "source": [
    "x"
   ]
  },
  {
   "cell_type": "code",
   "execution_count": 65,
   "metadata": {
    "ExecuteTime": {
     "end_time": "2020-10-22T12:10:03.664260Z",
     "start_time": "2020-10-22T12:10:03.656281Z"
    }
   },
   "outputs": [
    {
     "name": "stdout",
     "output_type": "stream",
     "text": [
      "0     8.0\n",
      "1     1.0\n",
      "2     2.5\n",
      "3     4.0\n",
      "4    28.0\n",
      "dtype: float64\n",
      "0     1.0\n",
      "1     2.5\n",
      "2     4.0\n",
      "3     8.0\n",
      "4    28.0\n",
      "dtype: float64\n"
     ]
    }
   ],
   "source": [
    "print(z)\n",
    "print(z.mode())"
   ]
  },
  {
   "cell_type": "markdown",
   "metadata": {},
   "source": [
    "## Variance"
   ]
  },
  {
   "cell_type": "code",
   "execution_count": 66,
   "metadata": {
    "ExecuteTime": {
     "end_time": "2020-10-22T12:10:03.685338Z",
     "start_time": "2020-10-22T12:10:03.671192Z"
    }
   },
   "outputs": [
    {
     "data": {
      "text/plain": [
       "[8.0, 1, 2.5, 4, 28.0, 100, 1000, 1000]"
      ]
     },
     "execution_count": 66,
     "metadata": {},
     "output_type": "execute_result"
    }
   ],
   "source": [
    "x"
   ]
  },
  {
   "cell_type": "code",
   "execution_count": 67,
   "metadata": {
    "ExecuteTime": {
     "end_time": "2020-10-22T12:10:03.704049Z",
     "start_time": "2020-10-22T12:10:03.692626Z"
    }
   },
   "outputs": [
    {
     "name": "stdout",
     "output_type": "stream",
     "text": [
      "267.9375\n",
      "205221.03125\n",
      "205221.03125\n",
      "205221.03125\n",
      "205221.03125\n"
     ]
    }
   ],
   "source": [
    "n = len(x)\n",
    "mean_x = sum(x) / len(x)\n",
    "print(mean_x)\n",
    "variance_x = sum((point - mean_x)**2 for point in x) / (n-1)\n",
    "print(variance_x)\n",
    "print(statistics.variance(x))\n",
    "print(np.var(np.array(x), ddof=1))\n",
    "print(series_x.var())"
   ]
  },
  {
   "cell_type": "markdown",
   "metadata": {},
   "source": [
    "## Standard Deviation"
   ]
  },
  {
   "cell_type": "code",
   "execution_count": 68,
   "metadata": {
    "ExecuteTime": {
     "end_time": "2020-10-22T12:10:03.724572Z",
     "start_time": "2020-10-22T12:10:03.708151Z"
    }
   },
   "outputs": [
    {
     "data": {
      "text/plain": [
       "0       8.0\n",
       "1       1.0\n",
       "2       2.5\n",
       "3       4.0\n",
       "4      28.0\n",
       "5     100.0\n",
       "6    1000.0\n",
       "7    1000.0\n",
       "dtype: float64"
      ]
     },
     "execution_count": 68,
     "metadata": {},
     "output_type": "execute_result"
    }
   ],
   "source": [
    "series_x"
   ]
  },
  {
   "cell_type": "code",
   "execution_count": 69,
   "metadata": {
    "ExecuteTime": {
     "end_time": "2020-10-22T12:10:03.745940Z",
     "start_time": "2020-10-22T12:10:03.731655Z"
    }
   },
   "outputs": [
    {
     "name": "stdout",
     "output_type": "stream",
     "text": [
      "std native: 453.01327933074987\n",
      "std np: 453.01327933074987\n",
      "std statistics: 453.01327933074987\n",
      "std pandas series: 453.01327933074987\n",
      "std scipy: 453.01327933074987\n"
     ]
    },
    {
     "name": "stderr",
     "output_type": "stream",
     "text": [
      "/Users/syahrulhamdani/.pyenv/versions/3.7.7/envs/PYTN/lib/python3.7/site-packages/ipykernel_launcher.py:5: DeprecationWarning: scipy.std is deprecated and will be removed in SciPy 2.0.0, use numpy.std instead\n",
      "  \"\"\"\n"
     ]
    }
   ],
   "source": [
    "print(\"std native:\", variance_x**0.5)\n",
    "print(\"std np:\", np.std(x, ddof=1))\n",
    "print(\"std statistics:\", statistics.stdev(x))\n",
    "print(\"std pandas series:\", series_x.std())\n",
    "print(\"std scipy:\", scipy.std(x, ddof=1))"
   ]
  },
  {
   "cell_type": "markdown",
   "metadata": {},
   "source": [
    "## Skewness"
   ]
  },
  {
   "cell_type": "code",
   "execution_count": 70,
   "metadata": {
    "ExecuteTime": {
     "end_time": "2020-10-22T12:10:03.766443Z",
     "start_time": "2020-10-22T12:10:03.750413Z"
    }
   },
   "outputs": [
    {
     "name": "stdout",
     "output_type": "stream",
     "text": [
      "[8.0, 1, 2.5, 4, 28.0, 100, 1000, 1000]\n",
      "1.418667535162236\n",
      "1.4186675351622358\n",
      "1.4186675351622358\n"
     ]
    }
   ],
   "source": [
    "print(x)\n",
    "n = len(x)\n",
    "mean_x = sum(x) / n\n",
    "variance_x = sum((point - mean_x)**2 for point in x) / (n-1)\n",
    "std_x = variance_x ** 0.5\n",
    "\n",
    "skew_x = sum((item-mean_x)**3 for item in x) * n / ((n-1) * (n-2) * std_x**3)\n",
    "print(skew_x)\n",
    "print(scipy.stats.skew(x, bias=False))\n",
    "print(series_x.skew())"
   ]
  },
  {
   "cell_type": "markdown",
   "metadata": {},
   "source": [
    "## Percentiles"
   ]
  },
  {
   "cell_type": "code",
   "execution_count": 71,
   "metadata": {
    "ExecuteTime": {
     "end_time": "2020-10-22T12:10:03.947580Z",
     "start_time": "2020-10-22T12:10:03.775660Z"
    }
   },
   "outputs": [
    {
     "name": "stdout",
     "output_type": "stream",
     "text": [
      "Python 3.7.7\r\n"
     ]
    }
   ],
   "source": [
    "!python --version"
   ]
  },
  {
   "cell_type": "code",
   "execution_count": 72,
   "metadata": {
    "ExecuteTime": {
     "end_time": "2020-10-22T12:10:03.969545Z",
     "start_time": "2020-10-22T12:10:03.954443Z"
    }
   },
   "outputs": [
    {
     "name": "stdout",
     "output_type": "stream",
     "text": [
      "[8.0, 1, 2.5, 4, 28.0, 100, 1000, 1000]\n",
      "18.0\n",
      "[  3.625  18.    325.   ]\n",
      "[  3.625  18.    325.   ]\n",
      "18.0\n"
     ]
    }
   ],
   "source": [
    "print(x)\n",
    "print(np.percentile(x, 50))\n",
    "print(np.percentile(x, [25, 50, 75]))\n",
    "print(np.quantile(x, [.25, .5, .75]))\n",
    "print(np.median(x))"
   ]
  },
  {
   "cell_type": "code",
   "execution_count": 73,
   "metadata": {
    "ExecuteTime": {
     "end_time": "2020-10-22T12:10:03.981586Z",
     "start_time": "2020-10-22T12:10:03.974679Z"
    }
   },
   "outputs": [
    {
     "name": "stdout",
     "output_type": "stream",
     "text": [
      "[1, 2.5, 4, 8.0, nan, 28.0]\n",
      "4.0 4.0\n",
      "4.0\n"
     ]
    }
   ],
   "source": [
    "print(sorted(x_with_nan))\n",
    "print(np.nanpercentile(x_with_nan, 50), np.nanmedian(x_with_nan))\n",
    "print(np.nanquantile(x_with_nan, 0.5))"
   ]
  },
  {
   "cell_type": "code",
   "execution_count": 74,
   "metadata": {
    "ExecuteTime": {
     "end_time": "2020-10-22T12:10:04.035420Z",
     "start_time": "2020-10-22T12:10:03.988988Z"
    }
   },
   "outputs": [
    {
     "name": "stdout",
     "output_type": "stream",
     "text": [
      "3.625 325.0 321.375\n"
     ]
    }
   ],
   "source": [
    "q1 = np.quantile(x, .25)\n",
    "q3 = np.quantile(x, .75)\n",
    "interquantile = q3 - q1\n",
    "print(q1, q3, interquantile)"
   ]
  },
  {
   "cell_type": "code",
   "execution_count": 78,
   "metadata": {
    "ExecuteTime": {
     "end_time": "2020-10-22T12:15:14.105159Z",
     "start_time": "2020-10-22T12:15:14.088984Z"
    }
   },
   "outputs": [
    {
     "name": "stdout",
     "output_type": "stream",
     "text": [
      "[-10, -9, -8, -7, -6, -5, -4, -3, -2, -1, 0, 1, 2, 3, 4, 5, 6, 7, 8, 9, 10]\n",
      "[0, 2, 2, 2, 2, 3, 3, 6, 7, 4, 7, 6, 6, 9, 4, 5, 5, 10, 11, 12, 14]\n",
      "21 21\n",
      "[-10  -9  -8  -7  -6  -5  -4  -3  -2  -1   0   1   2   3   4   5   6   7\n",
      "   8   9  10]\n",
      "0    -10\n",
      "1     -9\n",
      "2     -8\n",
      "3     -7\n",
      "4     -6\n",
      "5     -5\n",
      "6     -4\n",
      "7     -3\n",
      "8     -2\n",
      "9     -1\n",
      "10     0\n",
      "11     1\n",
      "12     2\n",
      "13     3\n",
      "14     4\n",
      "15     5\n",
      "16     6\n",
      "17     7\n",
      "18     8\n",
      "19     9\n",
      "20    10\n",
      "dtype: int64\n"
     ]
    }
   ],
   "source": [
    "x = list(range(-10, 11))\n",
    "print(x)\n",
    "y = [0, 2, 2, 2, 2, 3, 3, 6, 7, 4, 7, 6,\n",
    "     6, 9, 4, 5, 5, 10, 11, 12, 14]\n",
    "print(y)\n",
    "print(len(x), len(y))\n",
    "np_x, np_y = np.array(x), np.array(y)\n",
    "s_x, s_y = pd.Series(x), pd.Series(y)\n",
    "print(np_x)\n",
    "print(s_x)"
   ]
  },
  {
   "cell_type": "markdown",
   "metadata": {},
   "source": [
    "### Covariance"
   ]
  },
  {
   "cell_type": "code",
   "execution_count": 79,
   "metadata": {
    "ExecuteTime": {
     "end_time": "2020-10-22T12:20:49.412328Z",
     "start_time": "2020-10-22T12:20:49.399589Z"
    }
   },
   "outputs": [
    {
     "name": "stdout",
     "output_type": "stream",
     "text": [
      "mean x: 0.0.. mean y: 5.714285714285714\n",
      "covariance x-y: 19.95\n"
     ]
    }
   ],
   "source": [
    "# covariance using native python\n",
    "n = len(x)\n",
    "mean_x, mean_y = sum(x) / n, sum(y) / n\n",
    "cov_xy = (\n",
    "    sum(\n",
    "        (x[i] - mean_x) * (y[i] - mean_y)\n",
    "        for i in range(n)\n",
    "    ) / (n - 1)\n",
    ")\n",
    "print('mean x: {}.. mean y: {}'.format(mean_x, mean_y))\n",
    "print('covariance x-y: {}'.format(cov_xy))"
   ]
  },
  {
   "cell_type": "code",
   "execution_count": 80,
   "metadata": {
    "ExecuteTime": {
     "end_time": "2020-10-22T12:21:58.253819Z",
     "start_time": "2020-10-22T12:21:58.241518Z"
    }
   },
   "outputs": [
    {
     "data": {
      "text/plain": [
       "array([[38.5       , 19.95      ],\n",
       "       [19.95      , 13.91428571]])"
      ]
     },
     "execution_count": 80,
     "metadata": {},
     "output_type": "execute_result"
    }
   ],
   "source": [
    "# covariance in numpy\n",
    "npcov_xy = np.cov(np_x, np_y)\n",
    "npcov_xy"
   ]
  },
  {
   "cell_type": "code",
   "execution_count": 81,
   "metadata": {
    "ExecuteTime": {
     "end_time": "2020-10-22T12:24:01.884640Z",
     "start_time": "2020-10-22T12:24:01.875522Z"
    }
   },
   "outputs": [
    {
     "name": "stdout",
     "output_type": "stream",
     "text": [
      "38.5 13.914285714285711\n"
     ]
    }
   ],
   "source": [
    "# variance using .var method in numpy\n",
    "print(np_x.var(ddof=1), np_y.var(ddof=1))"
   ]
  },
  {
   "cell_type": "code",
   "execution_count": 83,
   "metadata": {
    "ExecuteTime": {
     "end_time": "2020-10-22T12:27:19.296854Z",
     "start_time": "2020-10-22T12:27:19.289288Z"
    }
   },
   "outputs": [
    {
     "data": {
      "text/plain": [
       "(19.95, 19.95)"
      ]
     },
     "execution_count": 83,
     "metadata": {},
     "output_type": "execute_result"
    }
   ],
   "source": [
    "# covariance using .cov method in pandas series\n",
    "s_x.cov(s_y), s_y.cov(s_x)"
   ]
  },
  {
   "cell_type": "markdown",
   "metadata": {},
   "source": [
    "### Correlation"
   ]
  },
  {
   "cell_type": "code",
   "execution_count": 84,
   "metadata": {
    "ExecuteTime": {
     "end_time": "2020-10-22T12:30:44.743802Z",
     "start_time": "2020-10-22T12:30:44.736062Z"
    }
   },
   "outputs": [
    {
     "name": "stdout",
     "output_type": "stream",
     "text": [
      "pearson correlation coefficient: 0.861950005631606\n"
     ]
    }
   ],
   "source": [
    "std_x = (\n",
    "    sum((item - mean_x)**2 for item in x) / (n-1)\n",
    ") ** .5\n",
    "std_y = (\n",
    "    sum((item - mean_y)**2 for item in y) / (n-1)\n",
    ") ** .5\n",
    "r = cov_xy / (std_x*std_y)\n",
    "print(\"pearson correlation coefficient:\", r)"
   ]
  },
  {
   "cell_type": "code",
   "execution_count": 86,
   "metadata": {
    "ExecuteTime": {
     "end_time": "2020-10-22T12:33:58.705485Z",
     "start_time": "2020-10-22T12:33:58.695762Z"
    }
   },
   "outputs": [
    {
     "data": {
      "text/plain": [
       "array([[1.        , 0.86195001],\n",
       "       [0.86195001, 1.        ]])"
      ]
     },
     "execution_count": 86,
     "metadata": {},
     "output_type": "execute_result"
    }
   ],
   "source": [
    "# correlation using numpy\n",
    "np.corrcoef(np_x, np_y)"
   ]
  }
 ],
 "metadata": {
  "kernelspec": {
   "display_name": "Python 3",
   "language": "python",
   "name": "python3"
  },
  "language_info": {
   "codemirror_mode": {
    "name": "ipython",
    "version": 3
   },
   "file_extension": ".py",
   "mimetype": "text/x-python",
   "name": "python",
   "nbconvert_exporter": "python",
   "pygments_lexer": "ipython3",
   "version": "3.7.7"
  }
 },
 "nbformat": 4,
 "nbformat_minor": 4
}
